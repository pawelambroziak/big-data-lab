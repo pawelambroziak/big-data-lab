{
 "cells": [
  {
   "cell_type": "markdown",
   "id": "5ab0f9f7-6b3f-4eb8-a1f7-9850ccbfea3c",
   "metadata": {},
   "source": [
    "# Zaliczenie"
   ]
  },
  {
   "cell_type": "code",
   "execution_count": 4,
   "id": "d8f174ac-ee99-4408-ae50-ece090565edf",
   "metadata": {},
   "outputs": [
    {
     "name": "stdout",
     "output_type": "stream",
     "text": [
      "env: NAME=zal_test\n",
      "env: USER_ID=8001\n"
     ]
    }
   ],
   "source": [
    "%env NAME=zal_test\n",
    "%env USER_ID=8001"
   ]
  },
  {
   "cell_type": "code",
   "execution_count": 13,
   "id": "81394444-91a1-480d-a42b-acd546a304c7",
   "metadata": {
    "tags": []
   },
   "outputs": [],
   "source": [
    "name = 'zal_test'\n",
    "user_id = '8001'"
   ]
  },
  {
   "cell_type": "markdown",
   "id": "c5e5dbe2-5dd9-4616-a890-8bb929623862",
   "metadata": {},
   "source": [
    "## Zadanie 1"
   ]
  },
  {
   "cell_type": "markdown",
   "id": "1bfeb0b0-5a50-4165-b762-f0070b3a0362",
   "metadata": {},
   "source": [
    "### 1.1 pobranie i unzip pliku z danymi"
   ]
  },
  {
   "cell_type": "code",
   "execution_count": 6,
   "id": "087d1cc8-bec3-4b57-90dd-f0ca04e0bc66",
   "metadata": {},
   "outputs": [
    {
     "name": "stdout",
     "output_type": "stream",
     "text": [
      "Archive:  stack-overflow-developer-survey-2022.zip\n",
      "  inflating: /root/zal_test/data/README_2022.txt  \n",
      "  inflating: /root/zal_test/data/so_survey_2022.pdf  \n",
      "  inflating: /root/zal_test/data/survey_results_public.csv  \n",
      "  inflating: /root/zal_test/data/survey_results_schema.csv  \n"
     ]
    }
   ],
   "source": [
    "%%bash\n",
    "mkdir -p ~/$NAME\n",
    "cd ~/$NAME\n",
    "wget --quiet https://info.stackoverflowsolutions.com/rs/719-EMH-566/images/stack-overflow-developer-survey-2022.zip\n",
    "unzip stack-overflow-developer-survey-2022.zip -d ~/$NAME/data"
   ]
  },
  {
   "cell_type": "markdown",
   "id": "d090b11d-7243-4b86-8f60-857c7143e98a",
   "metadata": {},
   "source": [
    "### 1.2 kopiowanie danych do gcp storage bucket"
   ]
  },
  {
   "cell_type": "code",
   "execution_count": 8,
   "id": "407e933d-f751-4e2e-b6fb-37cd912f10cd",
   "metadata": {},
   "outputs": [
    {
     "name": "stderr",
     "output_type": "stream",
     "text": [
      "Creating gs://zal_test/...\n",
      "Copying file:///root/zal_test/data/README_2022.txt [Content-Type=text/plain]...\n",
      "Copying file:///root/zal_test/data/so_survey_2022.pdf [Content-Type=application/pdf]...\n",
      "Copying file:///root/zal_test/data/survey_results_public.csv [Content-Type=text/csv]...\n",
      "Copying file:///root/zal_test/data/survey_results_schema.csv [Content-Type=text/csv]...\n",
      "| [4 files][104.8 MiB/104.8 MiB]                                                \n",
      "Operation completed over 4 objects/104.8 MiB.                                    \n"
     ]
    },
    {
     "name": "stdout",
     "output_type": "stream",
     "text": [
      "gs://zal_test/README_2022.txt\n",
      "gs://zal_test/so_survey_2022.pdf\n",
      "gs://zal_test/survey_results_public.csv\n",
      "gs://zal_test/survey_results_schema.csv\n"
     ]
    }
   ],
   "source": [
    "%%bash\n",
    "gsutil mb -l europe-west1 gs://$NAME\n",
    "gsutil cp ~/$NAME/data/* gs://$NAME\n",
    "gsutil ls gs://$NAME"
   ]
  },
  {
   "cell_type": "markdown",
   "id": "0953890e-b996-4881-989a-7887d5ceb0e7",
   "metadata": {},
   "source": [
    "### 1.3 ilość wierszy w ankiecie"
   ]
  },
  {
   "cell_type": "code",
   "execution_count": 10,
   "id": "c58b19ae-3d6c-46b0-89de-e792e439ffa5",
   "metadata": {},
   "outputs": [
    {
     "name": "stdout",
     "output_type": "stream",
     "text": [
      "73268\n"
     ]
    }
   ],
   "source": [
    "!expr $(wc -l < ~/$NAME/data/survey_results_public.csv) - 1"
   ]
  },
  {
   "cell_type": "markdown",
   "id": "f6ebba25-a45f-4431-b6e8-368ce7809215",
   "metadata": {
    "tags": []
   },
   "source": [
    "## Zadanie 2"
   ]
  },
  {
   "cell_type": "markdown",
   "id": "3f9c1331-ce4c-48eb-bb9d-211f14dc9656",
   "metadata": {},
   "source": [
    "### 2.1 utworzenie sesji"
   ]
  },
  {
   "cell_type": "code",
   "execution_count": 11,
   "id": "14897804-5315-4cfd-aca1-42e2adfae9ea",
   "metadata": {
    "tags": []
   },
   "outputs": [
    {
     "name": "stderr",
     "output_type": "stream",
     "text": [
      "Setting default log level to \"WARN\".\n",
      "To adjust logging level use sc.setLogLevel(newLevel). For SparkR, use setLogLevel(newLevel).\n",
      "25/01/20 00:30:19 INFO SparkEnv: Registering MapOutputTracker\n",
      "25/01/20 00:30:19 INFO SparkEnv: Registering BlockManagerMaster\n",
      "25/01/20 00:30:19 INFO SparkEnv: Registering BlockManagerMasterHeartbeat\n",
      "25/01/20 00:30:20 INFO SparkEnv: Registering OutputCommitCoordinator\n"
     ]
    }
   ],
   "source": [
    "from pyspark.sql import SparkSession\n",
    "from pyspark.sql.functions import *\n",
    "\n",
    "spark = SparkSession.builder \\\n",
    "    .config(\"spark.executor.instances\", \"1\") \\\n",
    "    .config(\"spark.driver.memory\", \"1g\") \\\n",
    "    .config(\"spark.executor.memory\", \"1g\") \\\n",
    "    .getOrCreate()"
   ]
  },
  {
   "cell_type": "markdown",
   "id": "45c3f8f7-a62b-4607-92b8-bd825bd09bff",
   "metadata": {
    "tags": []
   },
   "source": [
    "### 2.2 wczytanie danych"
   ]
  },
  {
   "cell_type": "code",
   "execution_count": 17,
   "id": "47ee1f5c-d703-41e0-9b7b-bdc7c4852b55",
   "metadata": {
    "tags": []
   },
   "outputs": [
    {
     "name": "stderr",
     "output_type": "stream",
     "text": [
      "25/01/20 00:38:07 WARN SparkStringUtils: Truncated the string representation of a plan since it was too large. This behavior can be adjusted by setting 'spark.sql.debug.maxToStringFields'.\n",
      "                                                                                \r"
     ]
    },
    {
     "name": "stdout",
     "output_type": "stream",
     "text": [
      "+----------+--------------------+--------------------+--------------------+--------------------+--------------------+--------------------+--------------------+--------------------+---------+------------+--------------------+--------------------+--------------------+--------------------+--------------------+--------------------+---------+--------+----------------------+----------------------+----------------------+----------------------+----------------------+----------------------+----------------------+----------------------+----------------------+----------------------+-----------------------+-----------------------+----------------------------+----------------------------+---------------------+--------------------+--------------------+--------------------+---------------------+-------------------------+------------------------------+------------------------------+-----------------------------+-----------------------------+----------------+--------------------+--------------------+--------------------+--------------------+---------------+------------------+--------------------+--------------------+--------------------+--------------------+--------------------+--------------------+-------+--------------------+-------+--------------------+--------------------+--------------------+--------------------+--------------------+--------------------+--------------------+----------------+----------------+----------------+--------------------+--------------------+--------------+--------------------+-----------+-----------+-----------+--------------------+--------------------+-------------------+\n",
      "|ResponseId|          MainBranch|          Employment|          RemoteWork|    CodingActivities|             EdLevel|           LearnCode|     LearnCodeOnline|LearnCodeCoursesCert|YearsCode|YearsCodePro|             DevType|             OrgSize|   PurchaseInfluence|          BuyNewTool|             Country|            Currency|CompTotal|CompFreq|LanguageHaveWorkedWith|LanguageWantToWorkWith|DatabaseHaveWorkedWith|DatabaseWantToWorkWith|PlatformHaveWorkedWith|PlatformWantToWorkWith|WebframeHaveWorkedWith|WebframeWantToWorkWith|MiscTechHaveWorkedWith|MiscTechWantToWorkWith|ToolsTechHaveWorkedWith|ToolsTechWantToWorkWith|NEWCollabToolsHaveWorkedWith|NEWCollabToolsWantToWorkWith|OpSysProfessional use|   OpSysPersonal use|VersionControlSystem|       VCInteraction|VCHostingPersonal use|VCHostingProfessional use|OfficeStackAsyncHaveWorkedWith|OfficeStackAsyncWantToWorkWith|OfficeStackSyncHaveWorkedWith|OfficeStackSyncWantToWorkWith|      Blockchain|          NEWSOSites|         SOVisitFreq|           SOAccount|          SOPartFreq|         SOComm|               Age|              Gender|               Trans|           Sexuality|           Ethnicity|       Accessibility|        MentalHealth|TBranch|              ICorPM|WorkExp|         Knowledge_1|         Knowledge_2|         Knowledge_3|         Knowledge_4|         Knowledge_5|         Knowledge_6|         Knowledge_7|     Frequency_1|     Frequency_2|     Frequency_3|       TimeSearching|       TimeAnswering|    Onboarding|    ProfessionalTech|TrueFalse_1|TrueFalse_2|TrueFalse_3|        SurveyLength|          SurveyEase|ConvertedCompYearly|\n",
      "+----------+--------------------+--------------------+--------------------+--------------------+--------------------+--------------------+--------------------+--------------------+---------+------------+--------------------+--------------------+--------------------+--------------------+--------------------+--------------------+---------+--------+----------------------+----------------------+----------------------+----------------------+----------------------+----------------------+----------------------+----------------------+----------------------+----------------------+-----------------------+-----------------------+----------------------------+----------------------------+---------------------+--------------------+--------------------+--------------------+---------------------+-------------------------+------------------------------+------------------------------+-----------------------------+-----------------------------+----------------+--------------------+--------------------+--------------------+--------------------+---------------+------------------+--------------------+--------------------+--------------------+--------------------+--------------------+--------------------+-------+--------------------+-------+--------------------+--------------------+--------------------+--------------------+--------------------+--------------------+--------------------+----------------+----------------+----------------+--------------------+--------------------+--------------+--------------------+-----------+-----------+-----------+--------------------+--------------------+-------------------+\n",
      "|         1|       None of these|                  NA|                  NA|                  NA|                  NA|                  NA|                  NA|                  NA|       NA|          NA|                  NA|                  NA|                  NA|                  NA|                  NA|                  NA|       NA|      NA|                    NA|                    NA|                    NA|                    NA|                    NA|                    NA|                    NA|                    NA|                    NA|                    NA|                     NA|                     NA|                          NA|                          NA|                   NA|                  NA|                  NA|                  NA|                 NULL|                     NULL|                            NA|                            NA|                           NA|                           NA|              NA|                  NA|                  NA|                  NA|                  NA|             NA|                NA|                  NA|                  NA|                  NA|                  NA|                  NA|                  NA|     NA|                  NA|     NA|                  NA|                  NA|                  NA|                  NA|                  NA|                  NA|                  NA|              NA|              NA|              NA|                  NA|                  NA|            NA|                  NA|         NA|         NA|         NA|                  NA|                  NA|                 NA|\n",
      "|         2|I am a developer ...| Employed, full-time|        Fully remote|Hobby;Contribute ...|                  NA|                  NA|                  NA|                  NA|       NA|          NA|                  NA|                  NA|                  NA|                  NA|              Canada|CAD\\tCanadian dollar|       NA|      NA|  JavaScript;TypeSc...|       Rust;TypeScript|                    NA|                    NA|                    NA|                    NA|                    NA|                    NA|                    NA|                    NA|                     NA|                     NA|                          NA|                          NA|                macOS|Windows Subsystem...|                 Git|                  NA|                 NULL|                     NULL|                            NA|                            NA|                           NA|                           NA|Very unfavorable|Collectives on St...|Daily or almost d...|                 Yes|Daily or almost d...|       Not sure|                NA|                  NA|                  NA|                  NA|                  NA|                  NA|                  NA|     No|                  NA|     NA|                  NA|                  NA|                  NA|                  NA|                  NA|                  NA|                  NA|              NA|              NA|              NA|                  NA|                  NA|            NA|                  NA|         NA|         NA|         NA|            Too long|           Difficult|                 NA|\n",
      "|         3|I am not primaril...| Employed, full-time|Hybrid (some remo...|               Hobby|Master’s degree (...|Books / Physical ...|Technical documen...|                  NA|       14|           5|Data scientist or...|  20 to 99 employees|I have some influ...|                  NA|United Kingdom of...| GBP\\tPound sterling|    32000|  Yearly|  C#;C++;HTML/CSS;J...|  C#;C++;HTML/CSS;J...|  Microsoft SQL Server|  Microsoft SQL Server|                    NA|                    NA|            Angular.js|    Angular;Angular.js|                Pandas|                  .NET|                     NA|                     NA|        Notepad++;Visual ...|        Notepad++;Visual ...|              Windows|             Windows|                 Git|         Code editor|                 NULL|                     NULL|                            NA|                            NA|              Microsoft Teams|              Microsoft Teams|Very unfavorable|Collectives on St...|Multiple times pe...|                 Yes|Multiple times pe...|        Neutral|   25-34 years old|                 Man|                  No|            Bisexual|               White|   None of the above|I have a mood or ...|     No|                  NA|     NA|                  NA|                  NA|                  NA|                  NA|                  NA|                  NA|                  NA|              NA|              NA|              NA|                  NA|                  NA|            NA|                  NA|         NA|         NA|         NA|Appropriate in le...|Neither easy nor ...|              40205|\n",
      "|         4|I am a developer ...| Employed, full-time|        Fully remote|I don’t code outs...|Bachelor’s degree...|Books / Physical ...|                  NA|                  NA|       20|          17|Developer, full-s...|100 to 499 employees|I have some influ...|Other (please spe...|              Israel|ILS\\tIsraeli new ...|    60000| Monthly|  C#;JavaScript;SQL...|     C#;SQL;TypeScript|  Microsoft SQL Server|  Microsoft SQL Server|                    NA|                    NA|  ASP.NET;ASP.NET C...|  ASP.NET;ASP.NET C...|                  .NET|                  .NET|                     NA|                     NA|        Notepad++;Visual ...|        Notepad++;Visual ...|              Windows|             Windows|                 Git|Code editor;Comma...|                 NULL|                     NULL|          Jira Work Managem...|          Jira Work Managem...|                   Slack;Zoom|                   Slack;Zoom|Very unfavorable|Collectives on St...|Daily or almost d...|                 Yes|A few times per week|Yes, definitely|   35-44 years old|                 Man|                  No|Straight / Hetero...|               White|   None of the above|   None of the above|     No|                  NA|     NA|                  NA|                  NA|                  NA|                  NA|                  NA|                  NA|                  NA|              NA|              NA|              NA|                  NA|                  NA|            NA|                  NA|         NA|         NA|         NA|Appropriate in le...|                Easy|             215232|\n",
      "|         5|I am a developer ...| Employed, full-time|Hybrid (some remo...|               Hobby|Bachelor’s degree...|Other online reso...|Technical documen...|                  NA|        8|           3|Developer, front-...|  20 to 99 employees|I have some influ...|Start a free tria...|United States of ...|USD\\tUnited State...|       NA|      NA|  C#;HTML/CSS;JavaS...|  C#;Elixir;F#;Go;J...|  Cloud Firestore;E...|  Cloud Firestore;E...|  Firebase;Microsof...|  Firebase;Microsof...|  Angular;ASP.NET;A...|  Angular;ASP.NET C...|                  .NET|     .NET;Apache Kafka|                    npm|      Docker;Kubernetes|        Notepad++;Visual ...|        Rider;Visual Stud...|              Windows|       macOS;Windows|Git;Other (please...|         Code editor|                 NULL|                     NULL|                            NA|                            NA|         Microsoft Teams;Zoom|                           NA|     Unfavorable|Collectives on St...|Multiple times pe...|                 Yes|Daily or almost d...|Yes, definitely|   25-34 years old|                  NA|                  NA|                  NA|                  NA|                  NA|                  NA|     No|                  NA|     NA|                  NA|                  NA|                  NA|                  NA|                  NA|                  NA|                  NA|              NA|              NA|              NA|                  NA|                  NA|            NA|                  NA|         NA|         NA|         NA|            Too long|                Easy|                 NA|\n",
      "|         6|I am not primaril...|  Student, full-time|                  NA|                  NA|Master’s degree (...|Books / Physical ...|                  NA|                  NA|       15|          NA|                  NA|                  NA|                  NA|Other (please spe...|             Germany|                  NA|       NA|      NA|               C++;Lua|                   Lua|                    NA|                    NA|                    NA|                    NA|                    NA|                    NA|                    NA|                    NA|               Homebrew|               Homebrew|        Visual Studio Cod...|          Visual Studio Code|    Linux-based;macOS|               macOS|                 Git|Command-line;Vers...|                 NULL|                     NULL|                    Confluence|                            NA|         Rocketchat;Slack;...|         Rocketchat;Slack;...|Very unfavorable|Stack Overflow;St...|Multiple times pe...|                 Yes|Multiple times pe...|Yes, definitely|   25-34 years old|Or, in your own w...|Or, in your own w...|Prefer to self-de...|Or, in your own w...|Or, in your own w...|Or, in your own w...|     NA|                  NA|     NA|                  NA|                  NA|                  NA|                  NA|                  NA|                  NA|                  NA|              NA|              NA|              NA|                  NA|                  NA|            NA|                  NA|         NA|         NA|         NA|Appropriate in le...|                Easy|                 NA|\n",
      "|         7|I code primarily ...|  Student, part-time|                  NA|                  NA|Secondary school ...|Other online reso...|Stack Overflow;Vi...|                  NA|        3|          NA|                  NA|                  NA|                  NA|Start a free tria...|               India|                  NA|       NA|      NA|  C++;HTML/CSS;Java...|  C;C#;C++;Elixir;G...|  Cloud Firestore;M...|  MySQL;Oracle;Post...|                    NA|                    NA|  Angular;Next.js;N...|  Django;Flask;Gats...|                    NA|                    NA|           Homebrew;npm|                    npm|        Atom;IntelliJ;Not...|        Visual Studio Cod...|                macOS|               macOS|                 Git|Code editor;Comma...|                 NULL|                     NULL|                            NA|                            NA|         Google Chat;Micro...|         Google Chat;Slack...|       Favorable|      Stack Overflow|Multiple times pe...|                 Yes|Daily or almost d...|Yes, definitely|Under 18 years old|                 Man|                  No|                  NA|              Indian|   None of the above|   None of the above|     NA|                  NA|     NA|                  NA|                  NA|                  NA|                  NA|                  NA|                  NA|                  NA|              NA|              NA|              NA|                  NA|                  NA|            NA|                  NA|         NA|         NA|         NA|Appropriate in le...|                Easy|                 NA|\n",
      "|         8|I am a developer ...|Not employed, but...|                  NA|                  NA|Some college/univ...|Online Courses or...|                  NA|      Coursera;Udemy|        1|          NA|Developer, full-s...|                  NA|                  NA|  Start a free trial|               India|                  NA|       NA|      NA|  C;C++;HTML/CSS;Ja...|  APL;Bash/Shell;Go...|         MongoDB;MySQL|      Neo4j;PostgreSQL|  AWS;Google Cloud;...|  DigitalOcean;Fire...|        jQuery;Node.js|  Angular;Angular.j...|                    NA|                    NA|                    npm|          Unity 3D;Yarn|        Atom;CLion;Eclips...|        Android Studio;IP...|    Linux-based;macOS|             Windows|                 Git|        Command-line|                 NULL|                     NULL|                            NA|                            NA|         Google Chat;Micro...|                           NA|  Very favorable|Collectives on St...|A few times per week|                 Yes|I have never part...|Yes, definitely|   18-24 years old|                 Man|                  No|Straight / Hetero...|              Indian|   None of the above|   None of the above|     NA|                  NA|     NA|                  NA|                  NA|                  NA|                  NA|                  NA|                  NA|                  NA|              NA|              NA|              NA|                  NA|                  NA|            NA|                  NA|         NA|         NA|         NA|Appropriate in le...|                Easy|                 NA|\n",
      "|         9|I am a developer ...| Employed, full-time|Hybrid (some remo...|I don’t code outs...|Master’s degree (...|On the job traini...|                  NA|                  NA|        6|           6| Developer, back-end|        I don’t know|I have little or ...|                  NA|         Netherlands|   EUR European Euro|    46000|  Yearly|                    NA|                    NA|                    NA|                    NA|                    NA|                    NA|                    NA|                    NA|                    NA|                    NA|                     NA|                     NA|             Emacs;Notepad++|             Emacs;Notepad++|              Windows|             Windows|                 Git|Command-line;Dedi...|                 NULL|                     NULL|          Confluence;Jira W...|          Confluence;Jira W...|              Microsoft Teams|              Microsoft Teams|Very unfavorable|Stack Overflow fo...|A few times per m...|                 Yes|Less than once pe...| No, not at all|   25-34 years old|               Woman|                  No|Prefer to self-de...|            European|Or, in your own w...|Or, in your own w...|    Yes|Independent contr...|      6|               Agree|            Disagree|               Agree|               Agree|               Agree|               Agree|            Disagree|3-5 times a week|3-5 times a week|           Never| 15-30 minutes a day|Over 120 minutes ...| Somewhat long|Innersource initi...|        Yes|        Yes|        Yes|Appropriate in le...|                Easy|              49056|\n",
      "|        10|I am a developer ...|Independent contr...|        Fully remote|Hobby;Contribute ...|Some college/univ...|Books / Physical ...|Technical documen...|                  NA|       37|          30|Developer, deskto...|Just me - I am a ...|I have a great de...|Start a free tria...|             Croatia|  HRK\\tCroatian kuna|       NA|      NA|     Delphi;Java;Swift|     Delphi;Java;Swift|                    NA|                    NA|  DigitalOcean;Fire...|  DigitalOcean;Fire...|                    NA|                    NA|                    NA|                    NA|                     NA|                     NA|        Android Studio;RA...|        Android Studio;RA...|              Windows|             Windows|                 Git|Version control h...|                 NULL|                     NULL|                            NA|                            NA|            Google Chat;Slack|            Google Chat;Slack|Very unfavorable|Collectives on St...|Multiple times pe...|                 Yes|Multiple times pe...|Yes, definitely|   45-54 years old|               Woman|                  No|Straight / Hetero...|      White;European|   None of the above|   None of the above|     NA|                  NA|     NA|                  NA|                  NA|                  NA|                  NA|                  NA|                  NA|                  NA|              NA|              NA|              NA|                  NA|                  NA|            NA|                  NA|         NA|         NA|         NA|Appropriate in le...|                Easy|                 NA|\n",
      "|        11|I am a developer ...| Employed, full-time|Hybrid (some remo...|I don’t code outs...|Bachelor’s degree...|Books / Physical ...|Technical documen...|                  NA|        5|           2|Developer, full-s...|100 to 499 employees|I have little or ...|Start a free tria...|United Kingdom of...| GBP\\tPound sterling|    48000|  Yearly|  Bash/Shell;C#;HTM...|      C#;Go;JavaScript|  Microsoft SQL Server|  Microsoft SQL Server|   AWS;Microsoft Azure|       Microsoft Azure|  ASP.NET;ASP.NET C...|  ASP.NET;ASP.NET C...|                  .NET|                    NA|   Docker;npm;Terraform|       Docker;Terraform|        Rider;Visual Stud...|        Rider;Visual Stud...| Windows;Windows S...|         Linux-based|                 Git|Code editor;Comma...|                 NULL|                     NULL|                    Confluence|                            NA|         Google Chat;Micro...|            Google Chat;Slack|     Unfavorable|Stack Overflow;St...|A few times per m...|                 Yes|Less than once pe...| No, not really|   18-24 years old|                 Man|                  No|Straight / Hetero...|            European|   None of the above|   None of the above|     No|                  NA|     NA|                  NA|                  NA|                  NA|                  NA|                  NA|                  NA|                  NA|              NA|              NA|              NA|                  NA|                  NA|            NA|                  NA|         NA|         NA|         NA|Appropriate in le...|                Easy|              60307|\n",
      "|        12|I am not primaril...|Employed, full-ti...|        Fully remote|Hobby;Contribute ...|Bachelor’s degree...|Other online reso...|Technical documen...|                  NA|       12|          10| Engineering manager|  20 to 99 employees|I have some influ...|Start a free tria...|United States of ...|USD\\tUnited State...|   194400|  Yearly|  C#;HTML/CSS;JavaS...|  C++;Go;HTML/CSS;J...|  Couchbase;CouchDB...|  Elasticsearch;Mon...|   AWS;Microsoft Azure|  AWS;DigitalOcean;...|  ASP.NET;ASP.NET C...|  ASP.NET Core ;Nod...|  .NET;Keras;NumPy;...|  Keras;NumPy;Panda...|   Docker;Homebrew;K...|   Docker;Homebrew;K...|        IPython/Jupyter;N...|        IPython/Jupyter;N...| Linux-based;macOS...|   Linux-based;macOS|                 Git|Code editor;Dedic...|                 NULL|                     NULL|          Confluence;Jira W...|                 Notion;Trello|         Cisco Webex Teams...|                        Slack|     Unfavorable|Stack Overflow;St...|Daily or almost d...|                 Yes|A few times per m...|  Yes, somewhat|   35-44 years old|                 Man|                  No|Straight / Hetero...|               White|   None of the above|I have a mood or ...|    Yes|      People manager|     14|      Strongly agree|               Agree|            Disagree|               Agree|               Agree|               Agree|               Agree|10+ times a week|10+ times a week|3-5 times a week| 30-60 minutes a day|60-120 minutes a day|    Just right|Innersource initi...|        Yes|        Yes|         No|           Too short|                Easy|             194400|\n",
      "|        13|I am a developer ...| Employed, full-time|Hybrid (some remo...|               Hobby|Bachelor’s degree...|School (i.e., Uni...|                  NA|                  NA|       12|           5|Developer, full-s...|    2 to 9 employees|I have a great de...|Visit developer c...|United States of ...|USD\\tUnited State...|    65000|  Yearly|  C;HTML/CSS;Rust;S...|  Haskell;HTML/CSS;...|            PostgreSQL|   Elasticsearch;Redis|                   AWS|                   AWS|              React.js|              React.js|         Torch/PyTorch|         Torch/PyTorch|                 Docker|                 Docker|           Vim;Visual Studio|           Vim;Visual Studio|                macOS|         Linux-based|                 Git|Code editor;Comma...|                 NULL|                     NULL|          Jira Work Managem...|          Jira Work Managem...|         Microsoft Teams;S...|         Microsoft Teams;S...|       Favorable|Stack Overflow;St...|Daily or almost d...|Not sure/can't re...|                  NA|        Neutral|   25-34 years old|                 Man|                  No|Straight / Hetero...|               White|   None of the above|   None of the above|    Yes|Independent contr...|      5|Neither agree nor...|            Disagree|      Strongly agree|      Strongly agree|      Strongly agree|               Agree|            Disagree|           Never|           Never|           Never| 30-60 minutes a day|Less than 15 minu...|Somewhat short|DevOps function;M...|        Yes|         No|        Yes|Appropriate in le...|                Easy|              65000|\n",
      "|        14|I am a developer ...| Employed, part-time|        Fully remote|               Hobby|Bachelor’s degree...|Books / Physical ...|                  NA|                  NA|       22|          15|Developer, front-...|  20 to 99 employees|I have some influ...|Start a free tria...|           Australia|AUD\\tAustralian d...|       NA|      NA|  Elixir;Erlang;HTM...|  Elixir;Erlang;HTM...|   DynamoDB;PostgreSQL|            PostgreSQL|            AWS;Heroku|                    NA|  jQuery;Next.js;No...|  Phoenix;React.js;...|                    NA|                    NA|   Docker;Homebrew;n...|            Docker;Yarn|          Visual Studio Code|          Visual Studio Code|                macOS|               macOS|                 Git|        Command-line|                 NULL|                     NULL|          Airtable;Confluen...|                        Notion|         Microsoft Teams;S...|                   Slack;Zoom|Very unfavorable|Stack Overflow;St...|Multiple times pe...|                 Yes|Daily or almost d...|Yes, definitely|   35-44 years old|               Woman|                  No|Straight / Hetero...|               White|   None of the above|I have a mood or ...|    Yes|Independent contr...|     15|               Agree|               Agree|Neither agree nor...|Neither agree nor...|Neither agree nor...|               Agree|               Agree|1-2 times a week|10+ times a week|1-2 times a week|60-120 minutes a day| 30-60 minutes a day|    Very short|Continuous integr...|         No|         No|         No|           Too short|                Easy|                 NA|\n",
      "|        15|I am a developer ...|Employed, full-ti...|        Fully remote|Hobby;Freelance/c...|Master’s degree (...|Other online reso...|Written Tutorials...|                  NA|       11|           5|Developer, full-s...|5,000 to 9,999 em...|I have little or ...|Start a free tria...|United States of ...|USD\\tUnited State...|   110000|  Yearly|  HTML/CSS;JavaScri...|  HTML/CSS;JavaScri...|  Elasticsearch;Mon...|  Elasticsearch;Mon...|  AWS;DigitalOcean;...|                   AWS|  Django;Flask;jQue...|  Django;FastAPI;Re...|  Apache Kafka;Apac...|                Pandas|        Docker;npm;Yarn|        Docker;npm;Yarn|        IPython/Jupyter;N...|          Visual Studio Code|                macOS|               macOS|                 Git|Code editor;Comma...|                 NULL|                     NULL|          Asana;Jira Work M...|          Asana;Jira Work M...|         Microsoft Teams;S...|                   Slack;Zoom|     Indifferent|Stack Overflow;St...|Daily or almost d...|                 Yes|Less than once pe...|  Yes, somewhat|   25-34 years old|                 Man|                  No|Straight / Hetero...|               White|   None of the above|   None of the above|    Yes|Independent contr...|      5|               Agree|Neither agree nor...|Neither agree nor...|Neither agree nor...|Neither agree nor...|Neither agree nor...|Neither agree nor...|1-2 times a week|3-5 times a week|1-2 times a week| 30-60 minutes a day| 30-60 minutes a day| Somewhat long|DevOps function;C...|         No|        Yes|        Yes|Appropriate in le...|                Easy|             110000|\n",
      "|        16|I am a developer ...|Independent contr...|        Fully remote|Hobby;Contribute ...|Bachelor’s degree...|Books / Physical ...|                  NA|                  NA|        4|           4|Developer, full-s...|Just me - I am a ...|I have a great de...|  Start a free trial|  Russian Federation|  RUB\\tRussian ruble|       NA|  Weekly|  Bash/Shell;HTML/C...|  Bash/Shell;HTML/C...|  Cloud Firestore;M...|  Cloud Firestore;M...|  AWS;Firebase;Goog...|  AWS;Firebase;Goog...|  Express;jQuery;No...|  Express;Node.js;V...|                    NA|                    NA|                    npm|                    npm|        Notepad++;Visual ...|          Visual Studio Code|              Windows|             Windows|                 Git|Code editor;Comma...|                 NULL|                     NULL|                        Trello|                        Trello|                           NA|                           NA|     Unfavorable|Stack Overflow;St...|Multiple times pe...|                 Yes|Multiple times pe...|Yes, definitely|   25-34 years old|                 Man|                  No|Straight / Hetero...|                  NA|   None of the above|                  NA|     NA|                  NA|     NA|                  NA|                  NA|                  NA|                  NA|                  NA|                  NA|                  NA|              NA|              NA|              NA|                  NA|                  NA|            NA|                  NA|         NA|         NA|         NA|                  NA|Neither easy nor ...|                 NA|\n",
      "|        17|I am a developer ...| Employed, full-time|Hybrid (some remo...|               Hobby|Bachelor’s degree...|Books / Physical ...|Technical documen...|    Udemy;Codecademy|        7|           4|Developer, full-s...|    2 to 9 employees|I have some influ...|Start a free tria...|      Czech Republic|   CZK\\tCzech koruna|    37000| Monthly|  C#;Java;PHP;Python;R|  JavaScript;Kotlin...|   Elasticsearch;MySQL|  MariaDB;MongoDB;M...|   Google Cloud;VMware|                   AWS|  Angular;Laravel;N...|  Angular;Next.js;N...|  Electron;React Na...|              Electron|             Docker;npm|             Docker;npm|        IntelliJ;Notepad+...|          IntelliJ;Notepad++|              Windows|             Windows|                 Git|Command-line;Dedi...|                 NULL|                     NULL|          Jira Work Managem...|          Jira Work Management|         Microsoft Teams;S...|         Microsoft Teams;S...|     Unfavorable|Stack Overflow;St...|Daily or almost d...|                 Yes|A few times per m...|        Neutral|   25-34 years old|                 Man|                  No|            Bisexual|            European|   None of the above|I have a mood or ...|     No|                  NA|     NA|                  NA|                  NA|                  NA|                  NA|                  NA|                  NA|                  NA|              NA|              NA|              NA|                  NA|                  NA|            NA|                  NA|         NA|         NA|         NA|Appropriate in le...|Neither easy nor ...|              19224|\n",
      "|        18|I am a developer ...| Employed, full-time|        Fully remote|               Hobby|Master’s degree (...|Other online reso...|Technical documen...|Coursera;Pluralsight|       13|          10|      Engineer, data|1,000 to 4,999 em...|I have some influ...|Start a free tria...|             Austria|   EUR European Euro|   190000|  Yearly|            Python;SQL|            Python;SQL|  Cassandra;PostgreSQL|  Cassandra;PostgreSQL|      AWS;Google Cloud|      AWS;Google Cloud|                    NA|                    NA|                    NA|                    NA|   Docker;Homebrew;K...|   Docker;Homebrew;K...|          Visual Studio Code|        PyCharm;Visual St...|                macOS|Windows;Windows S...|                 Git|        Command-line|                 NULL|                     NULL|                            NA|                            NA|                   Slack;Zoom|                   Slack;Zoom|     Indifferent|Stack Overflow fo...|Daily or almost d...|                 Yes|Less than once pe...|Yes, definitely|   25-34 years old|               Woman|                  No|Straight / Hetero...|            European|   None of the above|   None of the above|     No|                  NA|     NA|                  NA|                  NA|                  NA|                  NA|                  NA|                  NA|                  NA|              NA|              NA|              NA|                  NA|                  NA|            NA|                  NA|         NA|         NA|         NA|Appropriate in le...|                Easy|             202623|\n",
      "|        19|I am a developer ...| Employed, full-time|Hybrid (some remo...|               Hobby|Secondary school ...|Books / Physical ...|                  NA|                  NA|       36|          22|Developer, back-e...|100 to 499 employees|I have little or ...|Start a free tria...|             Austria|   EUR European Euro|     4000| Monthly|     C#;PowerShell;SQL|  C#;F#;PowerShell;SQL|  Microsoft SQL Server|  Microsoft SQL Server|                    NA|                    NA|                    NA|                    NA|                  .NET|                  .NET|                     NA|                     NA|        Visual Studio;Vis...|        Visual Studio;Vis...|              Windows|             Windows|       Mercurial;SVN|Code editor;Comma...|                 NULL|                     NULL|                            NA|                            NA|         Microsoft Teams;Zoom|              Microsoft Teams|          Unsure|Stack Overflow;St...|Multiple times pe...|                 Yes|Daily or almost d...|Yes, definitely|   45-54 years old|                 Man|                  No|Straight / Hetero...|      White;European|   None of the above|   None of the above|     No|                  NA|     NA|                  NA|                  NA|                  NA|                  NA|                  NA|                  NA|                  NA|              NA|              NA|              NA|                  NA|                  NA|            NA|                  NA|         NA|         NA|         NA|Appropriate in le...|                Easy|              51192|\n",
      "|        20|I am learning to ...|  Student, full-time|                  NA|                  NA|Some college/univ...|Books / Physical ...|                  NA|                  NA|        2|          NA|                  NA|                  NA|                  NA|Visit developer c...|              Serbia|                  NA|       NA|      NA|  C++;HTML/CSS;Java...|   HTML/CSS;Python;SQL|                 MySQL|                 MySQL|                    NA|                    NA|                    NA|                    NA|  Keras;NumPy;Panda...|  Keras;NumPy;Panda...|                     NA|                     NA|        IntelliJ;Visual S...|          Visual Studio Code|  Linux-based;Windows| Linux-based;Windows|                 Git|Code editor;Comma...|                 NULL|                     NULL|                            NA|                            NA|                           NA|                           NA|     Indifferent|      Stack Overflow|Daily or almost d...|                  No|                  NA| No, not really|   18-24 years old|                 Man|                  No|                  NA|               White|                  NA|                  NA|     NA|                  NA|     NA|                  NA|                  NA|                  NA|                  NA|                  NA|                  NA|                  NA|              NA|              NA|              NA|                  NA|                  NA|            NA|                  NA|         NA|         NA|         NA|Appropriate in le...|                Easy|                 NA|\n",
      "+----------+--------------------+--------------------+--------------------+--------------------+--------------------+--------------------+--------------------+--------------------+---------+------------+--------------------+--------------------+--------------------+--------------------+--------------------+--------------------+---------+--------+----------------------+----------------------+----------------------+----------------------+----------------------+----------------------+----------------------+----------------------+----------------------+----------------------+-----------------------+-----------------------+----------------------------+----------------------------+---------------------+--------------------+--------------------+--------------------+---------------------+-------------------------+------------------------------+------------------------------+-----------------------------+-----------------------------+----------------+--------------------+--------------------+--------------------+--------------------+---------------+------------------+--------------------+--------------------+--------------------+--------------------+--------------------+--------------------+-------+--------------------+-------+--------------------+--------------------+--------------------+--------------------+--------------------+--------------------+--------------------+----------------+----------------+----------------+--------------------+--------------------+--------------+--------------------+-----------+-----------+-----------+--------------------+--------------------+-------------------+\n",
      "only showing top 20 rows\n",
      "\n"
     ]
    }
   ],
   "source": [
    "input_path = f'gs://{name}/survey_results_public.csv'\n",
    "df = spark.read.load(input_path, format='csv', sep=',', inferSchema='true', header='true')\n",
    "df.show()"
   ]
  },
  {
   "cell_type": "markdown",
   "id": "ae171aa2-c6a2-4ac5-9418-f6d9f6266c80",
   "metadata": {},
   "source": [
    "### 2.3 dodanie kolumny"
   ]
  },
  {
   "cell_type": "code",
   "execution_count": 30,
   "id": "2ac92193-d41f-4481-84b9-5d344e5334d8",
   "metadata": {
    "tags": []
   },
   "outputs": [],
   "source": [
    "output_df = df.limit(10).withColumn('EmploymentMainBranch', concat_ws(',', col('Employment'), col('MainBranch')))"
   ]
  },
  {
   "cell_type": "markdown",
   "id": "2bc40f5f-0bc9-498c-8575-a1d030e498de",
   "metadata": {},
   "source": [
    "### 2.4 zapis nowych danych i weryfikacja"
   ]
  },
  {
   "cell_type": "code",
   "execution_count": 31,
   "id": "92530ebc-1238-4c55-b91a-09fa95362a7b",
   "metadata": {
    "scrolled": true,
    "tags": []
   },
   "outputs": [
    {
     "name": "stderr",
     "output_type": "stream",
     "text": [
      "                                                                                \r"
     ]
    },
    {
     "data": {
      "text/plain": [
       "10"
      ]
     },
     "execution_count": 31,
     "metadata": {},
     "output_type": "execute_result"
    }
   ],
   "source": [
    "output_df.count()"
   ]
  },
  {
   "cell_type": "code",
   "execution_count": null,
   "id": "e4c89aa3-130a-4a52-a8c0-6031abce914b",
   "metadata": {
    "tags": []
   },
   "outputs": [
    {
     "name": "stderr",
     "output_type": "stream",
     "text": [
      "[Stage 24:=============================>                            (1 + 1) / 2]\r"
     ]
    }
   ],
   "source": [
    "output_path = f'gs://{name}/output_data.csv'\n",
    "# output_df.write.format('csv').option('sep', '\\t').mode('overwrite').save(output_path)\n",
    "output_df.write.format('csv').option('header', 'true').option('sep', ';').mode('overwrite').save(output_path)\n",
    "\n",
    "# read_df = spark.read.load(output_path, format='csv', sep='\\t', inferSchema='true') #, header='true')\n",
    "read_df = spark.read.load(output_path, format='csv', inferSchema='true', header='true')\n",
    "read_df.show(2, truncate=False)"
   ]
  },
  {
   "cell_type": "markdown",
   "id": "538b56e0-217a-469a-a705-0076fdd375b9",
   "metadata": {},
   "source": [
    "### 2.5 nowy kubełek"
   ]
  },
  {
   "cell_type": "code",
   "execution_count": null,
   "id": "5502b747-627c-4991-bd80-38d793e27983",
   "metadata": {
    "tags": []
   },
   "outputs": [],
   "source": [
    "# tworzenie nowego kubełka\n",
    "new_bucket = f'{NAME}-ds-2024l-{USERID}-output-data'\n",
    "!gsutil mb -l europe-west1 gs://{NAME}-ds-2024l-{USERID}-output-data\n",
    "!gsutil cp -r gs://{NAME}/output_data.csv gs://{NAME}-ds-2024l-{USERID}-output-data\n",
    "\n",
    "# weryfikacja\n",
    "read_copied_df = spark.read.load(f'gs://{new_bucket}/output_data.csv', format='csv', sep=';', inferSchema='true', header='true')\n",
    "read_copied_df.show()"
   ]
  }
 ],
 "metadata": {
  "kernelspec": {
   "display_name": "Python 3",
   "language": "python",
   "name": "python3"
  },
  "language_info": {
   "codemirror_mode": {
    "name": "ipython",
    "version": 3
   },
   "file_extension": ".py",
   "mimetype": "text/x-python",
   "name": "python",
   "nbconvert_exporter": "python",
   "pygments_lexer": "ipython3",
   "version": "3.11.8"
  }
 },
 "nbformat": 4,
 "nbformat_minor": 5
}
