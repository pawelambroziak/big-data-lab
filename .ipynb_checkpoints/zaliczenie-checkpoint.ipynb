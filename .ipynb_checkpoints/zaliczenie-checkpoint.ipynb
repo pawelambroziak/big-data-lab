{
 "cells": [
  {
   "cell_type": "markdown",
   "id": "5ab0f9f7-6b3f-4eb8-a1f7-9850ccbfea3c",
   "metadata": {},
   "source": [
    "# Zaliczenie"
   ]
  },
  {
   "cell_type": "code",
   "execution_count": null,
   "id": "d8f174ac-ee99-4408-ae50-ece090565edf",
   "metadata": {},
   "outputs": [],
   "source": [
    "%env NAME=zal_test"
   ]
  },
  {
   "cell_type": "markdown",
   "id": "c5e5dbe2-5dd9-4616-a890-8bb929623862",
   "metadata": {},
   "source": [
    "## Zadanie 1"
   ]
  },
  {
   "cell_type": "markdown",
   "id": "1bfeb0b0-5a50-4165-b762-f0070b3a0362",
   "metadata": {},
   "source": [
    "### 1.1 pobranie i unzip pliku z danymi"
   ]
  },
  {
   "cell_type": "code",
   "execution_count": null,
   "id": "087d1cc8-bec3-4b57-90dd-f0ca04e0bc66",
   "metadata": {},
   "outputs": [],
   "source": [
    "%%bash\n",
    "mkdir -p $NAME\n",
    "cd ~/$NAME\n",
    "wget --quiet https://info.stackoverflowsolutions.com/rs/719-EMH-566/images/stack-overflow-developer-survey-2022.zip\n",
    "unzip stack-overflow-developer-survey-2022.zip -d ~/$NAME/data"
   ]
  },
  {
   "cell_type": "markdown",
   "id": "d090b11d-7243-4b86-8f60-857c7143e98a",
   "metadata": {},
   "source": [
    "### 1.2 kopiowanie danych do gcp storage bucket"
   ]
  },
  {
   "cell_type": "code",
   "execution_count": null,
   "id": "407e933d-f751-4e2e-b6fb-37cd912f10cd",
   "metadata": {},
   "outputs": [],
   "source": [
    "%%bash\n",
    "gsutil mb -l europe-west1 $NAME\n",
    "gsutil cp ~/$NAME/data/* gs://$NAME\n",
    "gsutil ls gs://$NAME"
   ]
  },
  {
   "cell_type": "markdown",
   "id": "0953890e-b996-4881-989a-7887d5ceb0e7",
   "metadata": {},
   "source": [
    "### 1.3 ilość wierszy w ankiecie"
   ]
  },
  {
   "cell_type": "code",
   "execution_count": null,
   "id": "c58b19ae-3d6c-46b0-89de-e792e439ffa5",
   "metadata": {},
   "outputs": [],
   "source": [
    "!wc -l ~/$NAME/data/survey_results_public.csv"
   ]
  },
  {
   "cell_type": "markdown",
   "id": "f6ebba25-a45f-4431-b6e8-368ce7809215",
   "metadata": {
    "tags": []
   },
   "source": [
    "## Zadanie 2"
   ]
  },
  {
   "cell_type": "markdown",
   "id": "3f9c1331-ce4c-48eb-bb9d-211f14dc9656",
   "metadata": {},
   "source": [
    "### 2.1 utworzenie sesji"
   ]
  }
 ],
 "metadata": {
  "kernelspec": {
   "display_name": "Python 3",
   "language": "python",
   "name": "python3"
  },
  "language_info": {
   "codemirror_mode": {
    "name": "ipython",
    "version": 3
   },
   "file_extension": ".py",
   "mimetype": "text/x-python",
   "name": "python",
   "nbconvert_exporter": "python",
   "pygments_lexer": "ipython3",
   "version": "3.11.8"
  }
 },
 "nbformat": 4,
 "nbformat_minor": 5
}
