{
  "cells": [
    {
      "cell_type": "markdown",
      "metadata": {
        "id": "view-in-github",
        "colab_type": "text"
      },
      "source": [
        "<a href=\"https://colab.research.google.com/github/pawelambroziak/big-data-lab/blob/jupyternotebooks_after_run/notebooks/02_ds_lab_infra_setup.ipynb\" target=\"_parent\"><img src=\"https://colab.research.google.com/assets/colab-badge.svg\" alt=\"Open In Colab\"/></a>"
      ]
    },
    {
      "cell_type": "code",
      "execution_count": 10,
      "id": "0",
      "metadata": {
        "id": "0"
      },
      "outputs": [],
      "source": [
        "REPO_NAME=\"big-data-lab\"\n",
        "USER_NAME=\"pawelambroziak\" # TODO: replace with your GitHub username"
      ]
    },
    {
      "cell_type": "code",
      "execution_count": 11,
      "id": "1",
      "metadata": {
        "id": "1",
        "outputId": "011256e2-381c-43d4-a9e1-6ffd1159f2f1",
        "colab": {
          "base_uri": "https://localhost:8080/"
        }
      },
      "outputs": [
        {
          "output_type": "stream",
          "name": "stdout",
          "text": [
            "env: REPO_NAME=big-data-lab\n",
            "env: USER_NAME=pawelambroziak\n"
          ]
        }
      ],
      "source": [
        "%env REPO_NAME=$REPO_NAME\n",
        "%env USER_NAME=$USER_NAME"
      ]
    },
    {
      "cell_type": "code",
      "execution_count": 12,
      "id": "2",
      "metadata": {
        "id": "2",
        "outputId": "c6507f9e-b738-44f3-b85c-0ca5c7f2f477",
        "colab": {
          "base_uri": "https://localhost:8080/"
        }
      },
      "outputs": [
        {
          "output_type": "stream",
          "name": "stdout",
          "text": [
            "Cloning into 'big-data-lab'...\n",
            "remote: Enumerating objects: 133, done.\u001b[K\n",
            "remote: Counting objects: 100% (62/62), done.\u001b[K\n",
            "remote: Compressing objects: 100% (50/50), done.\u001b[K\n",
            "remote: Total 133 (delta 38), reused 12 (delta 12), pack-reused 71 (from 3)\u001b[K\n",
            "Receiving objects: 100% (133/133), 459.78 KiB | 4.30 MiB/s, done.\n",
            "Resolving deltas: 100% (55/55), done.\n"
          ]
        },
        {
          "output_type": "execute_result",
          "data": {
            "text/plain": []
          },
          "metadata": {},
          "execution_count": 12
        }
      ],
      "source": [
        "%%shell\n",
        "rm -rf $REPO_NAME\n",
        "git clone https://github.com/$USER_NAME/$REPO_NAME.git\n",
        "cd $REPO_NAME"
      ]
    },
    {
      "cell_type": "code",
      "execution_count": 13,
      "id": "3",
      "metadata": {
        "id": "3",
        "outputId": "849782c7-9a24-48ab-dda0-7f790ac141cf",
        "colab": {
          "base_uri": "https://localhost:8080/"
        }
      },
      "outputs": [
        {
          "output_type": "stream",
          "name": "stdout",
          "text": [
            "env: TERRAFORM_VERSION=1.9.8\n",
            "env: PATH=/content/bin:/content/bin:/opt/bin:/usr/local/nvidia/bin:/usr/local/cuda/bin:/usr/local/sbin:/usr/local/bin:/usr/sbin:/usr/bin:/sbin:/bin:/tools/node/bin:/tools/google-cloud-sdk/bin\n",
            "--2025-01-19 21:05:25--  https://releases.hashicorp.com/terraform/1.9.8/terraform_1.9.8_linux_amd64.zip\n",
            "Resolving releases.hashicorp.com (releases.hashicorp.com)... 18.154.101.2, 18.154.101.62, 18.154.101.110, ...\n",
            "Connecting to releases.hashicorp.com (releases.hashicorp.com)|18.154.101.2|:443... connected.\n",
            "HTTP request sent, awaiting response... 200 OK\n",
            "Length: 27041434 (26M) [application/zip]\n",
            "Saving to: ‘terraform_1.9.8_linux_amd64.zip’\n",
            "\n",
            "terraform_1.9.8_lin 100%[===================>]  25.79M   131MB/s    in 0.2s    \n",
            "\n",
            "2025-01-19 21:05:26 (131 MB/s) - ‘terraform_1.9.8_linux_amd64.zip’ saved [27041434/27041434]\n",
            "\n",
            "Archive:  terraform_1.9.8_linux_amd64.zip\n",
            "  inflating: bin/LICENSE.txt         \n",
            "  inflating: bin/terraform           \n",
            "Terraform v1.9.8\n",
            "on linux_amd64\n",
            "\n",
            "Your version of Terraform is out of date! The latest version\n",
            "is 1.10.4. You can update by downloading from https://www.terraform.io/downloads.html\n"
          ]
        }
      ],
      "source": [
        "%run $REPO_NAME/notebooks/lib/00_terraform_setup.ipynb"
      ]
    },
    {
      "cell_type": "code",
      "execution_count": 14,
      "id": "4",
      "metadata": {
        "id": "4",
        "outputId": "1729440d-6b51-47ef-bb80-ed6cd6c6736a",
        "colab": {
          "base_uri": "https://localhost:8080/"
        }
      },
      "outputs": [
        {
          "output_type": "stream",
          "name": "stdout",
          "text": [
            "env: TF_VAR_ds_semester=2024l\n",
            "env: TF_VAR_user_id=8001\n",
            "env: TF_VAR_billing_account=017A30-C0B82F-FC5773\n",
            "env: TF_VAR_region=europe-west1\n",
            "env: TF_VAR_project_name=ds-2024l-8001\n",
            "env: GIT_BRANCH=colab-dev\n"
          ]
        }
      ],
      "source": [
        "%run $REPO_NAME/notebooks/conf/00_env_variables.ipynb"
      ]
    },
    {
      "cell_type": "code",
      "execution_count": 15,
      "id": "5",
      "metadata": {
        "id": "5"
      },
      "outputs": [],
      "source": [
        "# Authenticate to the Google account\n",
        "from google.colab import auth\n",
        "auth.authenticate_user()"
      ]
    },
    {
      "cell_type": "markdown",
      "id": "6",
      "metadata": {
        "id": "6"
      },
      "source": [
        "### Set the remote bucket for storing Terraform state\n"
      ]
    },
    {
      "cell_type": "code",
      "execution_count": 16,
      "id": "7",
      "metadata": {
        "id": "7",
        "outputId": "9d5f915b-5f14-416d-8214-a9db678a23e3",
        "colab": {
          "base_uri": "https://localhost:8080/",
          "height": 35
        }
      },
      "outputs": [
        {
          "output_type": "execute_result",
          "data": {
            "text/plain": [
              "'8001'"
            ],
            "application/vnd.google.colaboratory.intrinsic+json": {
              "type": "string"
            }
          },
          "metadata": {},
          "execution_count": 16
        }
      ],
      "source": [
        "import os\n",
        "TF_VAR_user_id = os.getenv(\"TF_VAR_user_id\")\n",
        "TF_VAR_user_id"
      ]
    },
    {
      "cell_type": "code",
      "execution_count": 17,
      "id": "8",
      "metadata": {
        "id": "8",
        "outputId": "c9cfea27-a288-4683-af94-c4fd00c8bf63",
        "colab": {
          "base_uri": "https://localhost:8080/"
        }
      },
      "outputs": [
        {
          "output_type": "stream",
          "name": "stdout",
          "text": [
            "Komenda zakończona sukcesem CompletedProcess(args='cd big-data-lab/infra && terraform init -backend-config=bucket=ds-2024l-8001-state', returncode=0)\n"
          ]
        }
      ],
      "source": [
        "import subprocess\n",
        "\n",
        "command = f\"cd {REPO_NAME}/infra && terraform init -backend-config=bucket=ds-2024l-{TF_VAR_user_id}-state\"\n",
        "\n",
        "result = subprocess.run(command, shell=True, check=True)\n",
        "print(\"Komenda zakończona sukcesem\", result)"
      ]
    },
    {
      "cell_type": "markdown",
      "id": "9",
      "metadata": {
        "id": "9"
      },
      "source": [
        "### Provision the infrastructure"
      ]
    },
    {
      "cell_type": "code",
      "execution_count": 18,
      "id": "10",
      "metadata": {
        "id": "10",
        "outputId": "d233a650-45d1-4c17-d9e9-f5be2d5515bb",
        "colab": {
          "base_uri": "https://localhost:8080/"
        }
      },
      "outputs": [
        {
          "output_type": "stream",
          "name": "stdout",
          "text": [
            "Acquiring state lock. This may take a few moments...\n",
            "\u001b[0m\u001b[1mmodule.vpc.module.vpc.module.vpc.google_compute_network.network: Refreshing state... [id=projects/ds-2024l-8001/global/networks/main-vpc]\u001b[0m\n",
            "\u001b[0m\u001b[1mmodule.vpc.module.vpc.module.subnets.google_compute_subnetwork.subnetwork[\"europe-west1/dataproc-01\"]: Refreshing state... [id=projects/ds-2024l-8001/regions/europe-west1/subnetworks/dataproc-01]\u001b[0m\n",
            "\u001b[0m\u001b[1mmodule.vpc.google_compute_firewall.fw-allow-ingress-from-iap: Refreshing state... [id=projects/ds-2024l-8001/global/firewalls/fw-allow-ingress-iap]\u001b[0m\n",
            "\u001b[0m\u001b[1mmodule.vpc.module.cloud-router.google_compute_router.router: Refreshing state... [id=projects/ds-2024l-8001/regions/europe-west1/routers/nat-router]\u001b[0m\n",
            "\u001b[0m\u001b[1mmodule.vpc.google_compute_firewall.default-internal-allow-all: Refreshing state... [id=projects/ds-2024l-8001/global/firewalls/default-internal-allow-all]\u001b[0m\n",
            "\u001b[0m\u001b[1mmodule.vpc.module.cloud-router.google_compute_router_nat.nats[\"nat-gateway\"]: Refreshing state... [id=ds-2024l-8001/europe-west1/nat-router/nat-gateway]\u001b[0m\n",
            "\u001b[0m\u001b[1mmodule.vpc.module.vpc.module.routes.google_compute_route.route[\"egress-internet\"]: Refreshing state... [id=projects/ds-2024l-8001/global/routes/egress-internet]\u001b[0m\n",
            "\u001b[0m\u001b[1mmodule.dataproc.google_service_account.default: Refreshing state... [id=projects/ds-2024l-8001/serviceAccounts/ds-service-account@ds-2024l-8001.iam.gserviceaccount.com]\u001b[0m\n",
            "\u001b[0m\u001b[1mmodule.dataproc.google_project_service.dataproc: Refreshing state... [id=ds-2024l-8001/dataproc.googleapis.com]\u001b[0m\n",
            "\u001b[0m\u001b[1mmodule.dataproc.google_project_iam_member.dataproc-service-account[\"roles/dataproc.worker\"]: Refreshing state... [id=ds-2024l-8001/roles/dataproc.worker/serviceAccount:ds-service-account@ds-2024l-8001.iam.gserviceaccount.com]\u001b[0m\n",
            "\u001b[0m\u001b[1mmodule.dataproc.google_project_iam_member.dataproc-service-account[\"roles/storage.admin\"]: Refreshing state... [id=ds-2024l-8001/roles/storage.admin/serviceAccount:ds-service-account@ds-2024l-8001.iam.gserviceaccount.com]\u001b[0m\n",
            "\u001b[0m\u001b[1mmodule.dataproc.google_dataproc_cluster.dataproc-cluster: Refreshing state... [id=projects/ds-2024l-8001/regions/europe-west1/clusters/ds-cluster]\u001b[0m\n",
            "\n",
            "\u001b[1m\u001b[36mNote:\u001b[0m\u001b[1m Objects have changed outside of Terraform\n",
            "\u001b[0m\n",
            "Terraform detected the following changes made outside of Terraform since the last \"terraform apply\" which may have affected this plan:\n",
            "\n",
            "\u001b[1m  # module.dataproc.google_dataproc_cluster.dataproc-cluster\u001b[0m has been deleted\n",
            "\u001b[0m  \u001b[31m-\u001b[0m\u001b[0m resource \"google_dataproc_cluster\" \"dataproc-cluster\" {\n",
            "        id                            = \"projects/ds-2024l-8001/regions/europe-west1/clusters/ds-cluster\"\n",
            "      \u001b[31m-\u001b[0m\u001b[0m name                          = \"ds-cluster\" \u001b[90m-> null\u001b[0m\u001b[0m\n",
            "        \u001b[90m# (5 unchanged attributes hidden)\u001b[0m\u001b[0m\n",
            "\n",
            "        \u001b[90m# (1 unchanged block hidden)\u001b[0m\u001b[0m\n",
            "    }\n",
            "\n",
            "\n",
            "Unless you have made equivalent changes to your configuration, or ignored the relevant attributes using ignore_changes, the following plan may include actions to undo or respond to these changes.\n",
            "\n",
            "\n",
            "\n",
            "Terraform used the selected providers to generate the following execution plan. Resource actions are indicated with the following symbols:\n",
            "  \u001b[32m+\u001b[0m create\u001b[0m\n",
            "\n",
            "Terraform will perform the following actions:\n",
            "\n",
            "\u001b[1m  # module.dataproc.google_dataproc_cluster.dataproc-cluster\u001b[0m will be created\n",
            "\u001b[0m  \u001b[32m+\u001b[0m\u001b[0m resource \"google_dataproc_cluster\" \"dataproc-cluster\" {\n",
            "      \u001b[32m+\u001b[0m\u001b[0m effective_labels              = (known after apply)\n",
            "      \u001b[32m+\u001b[0m\u001b[0m graceful_decommission_timeout = \"0s\"\n",
            "      \u001b[32m+\u001b[0m\u001b[0m id                            = (known after apply)\n",
            "      \u001b[32m+\u001b[0m\u001b[0m name                          = \"ds-cluster\"\n",
            "      \u001b[32m+\u001b[0m\u001b[0m project                       = \"ds-2024l-8001\"\n",
            "      \u001b[32m+\u001b[0m\u001b[0m region                        = \"europe-west1\"\n",
            "      \u001b[32m+\u001b[0m\u001b[0m terraform_labels              = (known after apply)\n",
            "\n",
            "      \u001b[32m+\u001b[0m\u001b[0m cluster_config {\n",
            "          \u001b[32m+\u001b[0m\u001b[0m bucket      = (known after apply)\n",
            "          \u001b[32m+\u001b[0m\u001b[0m temp_bucket = (known after apply)\n",
            "\n",
            "          \u001b[32m+\u001b[0m\u001b[0m auxiliary_node_groups (known after apply)\n",
            "\n",
            "          \u001b[32m+\u001b[0m\u001b[0m dataproc_metric_config (known after apply)\n",
            "\n",
            "          \u001b[32m+\u001b[0m\u001b[0m endpoint_config {\n",
            "              \u001b[32m+\u001b[0m\u001b[0m enable_http_port_access = true\n",
            "              \u001b[32m+\u001b[0m\u001b[0m http_ports              = (known after apply)\n",
            "            }\n",
            "\n",
            "          \u001b[32m+\u001b[0m\u001b[0m gce_cluster_config {\n",
            "              \u001b[32m+\u001b[0m\u001b[0m internal_ip_only       = true\n",
            "              \u001b[32m+\u001b[0m\u001b[0m metadata               = {\n",
            "                  \u001b[32m+\u001b[0m\u001b[0m \"PIP_PACKAGES\" = \"pandas<2 mlflow==2.18.0 google-cloud-storage==2.18.2\"\n",
            "                  \u001b[32m+\u001b[0m\u001b[0m \"vmDnsSetting\" = \"GlobalDefault\"\n",
            "                }\n",
            "              \u001b[32m+\u001b[0m\u001b[0m network                = (known after apply)\n",
            "              \u001b[32m+\u001b[0m\u001b[0m service_account        = \"ds-service-account@ds-2024l-8001.iam.gserviceaccount.com\"\n",
            "              \u001b[32m+\u001b[0m\u001b[0m service_account_scopes = [\n",
            "                  \u001b[32m+\u001b[0m\u001b[0m \"https://www.googleapis.com/auth/cloud-platform\",\n",
            "                ]\n",
            "              \u001b[32m+\u001b[0m\u001b[0m subnetwork             = \"projects/ds-2024l-8001/regions/europe-west1/subnetworks/dataproc-01\"\n",
            "              \u001b[32m+\u001b[0m\u001b[0m zone                   = (known after apply)\n",
            "\n",
            "              \u001b[32m+\u001b[0m\u001b[0m node_group_affinity (known after apply)\n",
            "\n",
            "              \u001b[32m+\u001b[0m\u001b[0m reservation_affinity (known after apply)\n",
            "\n",
            "              \u001b[32m+\u001b[0m\u001b[0m shielded_instance_config (known after apply)\n",
            "            }\n",
            "\n",
            "          \u001b[32m+\u001b[0m\u001b[0m initialization_action {\n",
            "              \u001b[32m+\u001b[0m\u001b[0m script      = \"gs://goog-dataproc-initialization-actions-europe-west1/python/pip-install.sh\"\n",
            "              \u001b[32m+\u001b[0m\u001b[0m timeout_sec = 600\n",
            "            }\n",
            "\n",
            "          \u001b[32m+\u001b[0m\u001b[0m lifecycle_config {\n",
            "              \u001b[32m+\u001b[0m\u001b[0m idle_delete_ttl = \"21600s\"\n",
            "              \u001b[32m+\u001b[0m\u001b[0m idle_start_time = (known after apply)\n",
            "            }\n",
            "\n",
            "          \u001b[32m+\u001b[0m\u001b[0m master_config {\n",
            "              \u001b[32m+\u001b[0m\u001b[0m image_uri        = (known after apply)\n",
            "              \u001b[32m+\u001b[0m\u001b[0m instance_names   = (known after apply)\n",
            "              \u001b[32m+\u001b[0m\u001b[0m machine_type     = \"e2-standard-2\"\n",
            "              \u001b[32m+\u001b[0m\u001b[0m min_cpu_platform = (known after apply)\n",
            "              \u001b[32m+\u001b[0m\u001b[0m num_instances    = 1\n",
            "\n",
            "              \u001b[32m+\u001b[0m\u001b[0m disk_config {\n",
            "                  \u001b[32m+\u001b[0m\u001b[0m boot_disk_size_gb = 100\n",
            "                  \u001b[32m+\u001b[0m\u001b[0m boot_disk_type    = \"pd-standard\"\n",
            "                  \u001b[32m+\u001b[0m\u001b[0m num_local_ssds    = (known after apply)\n",
            "                }\n",
            "            }\n",
            "\n",
            "          \u001b[32m+\u001b[0m\u001b[0m preemptible_worker_config (known after apply)\n",
            "\n",
            "          \u001b[32m+\u001b[0m\u001b[0m software_config {\n",
            "              \u001b[32m+\u001b[0m\u001b[0m image_version       = \"2.2-ubuntu22\"\n",
            "              \u001b[32m+\u001b[0m\u001b[0m optional_components = [\n",
            "                  \u001b[32m+\u001b[0m\u001b[0m \"JUPYTER\",\n",
            "                ]\n",
            "              \u001b[32m+\u001b[0m\u001b[0m override_properties = {\n",
            "                  \u001b[32m+\u001b[0m\u001b[0m \"dataproc:jupyter.notebook.gcs.dir\" = \"gs://ds-2024l-8001-notebook-data/data\"\n",
            "                }\n",
            "              \u001b[32m+\u001b[0m\u001b[0m properties          = (known after apply)\n",
            "            }\n",
            "\n",
            "          \u001b[32m+\u001b[0m\u001b[0m worker_config {\n",
            "              \u001b[32m+\u001b[0m\u001b[0m image_uri         = (known after apply)\n",
            "              \u001b[32m+\u001b[0m\u001b[0m instance_names    = (known after apply)\n",
            "              \u001b[32m+\u001b[0m\u001b[0m machine_type      = \"e2-standard-2\"\n",
            "              \u001b[32m+\u001b[0m\u001b[0m min_cpu_platform  = (known after apply)\n",
            "              \u001b[32m+\u001b[0m\u001b[0m min_num_instances = (known after apply)\n",
            "              \u001b[32m+\u001b[0m\u001b[0m num_instances     = 2\n",
            "\n",
            "              \u001b[32m+\u001b[0m\u001b[0m disk_config {\n",
            "                  \u001b[32m+\u001b[0m\u001b[0m boot_disk_size_gb = 100\n",
            "                  \u001b[32m+\u001b[0m\u001b[0m boot_disk_type    = \"pd-standard\"\n",
            "                  \u001b[32m+\u001b[0m\u001b[0m num_local_ssds    = (known after apply)\n",
            "                }\n",
            "            }\n",
            "        }\n",
            "\n",
            "      \u001b[32m+\u001b[0m\u001b[0m virtual_cluster_config (known after apply)\n",
            "    }\n",
            "\n",
            "\u001b[1mPlan:\u001b[0m 1 to add, 0 to change, 0 to destroy.\n",
            "\u001b[0m\u001b[0m\u001b[1mmodule.dataproc.google_dataproc_cluster.dataproc-cluster: Creating...\u001b[0m\u001b[0m\n",
            "\u001b[0m\u001b[1mmodule.dataproc.google_dataproc_cluster.dataproc-cluster: Still creating... [10s elapsed]\u001b[0m\u001b[0m\n",
            "\u001b[0m\u001b[1mmodule.dataproc.google_dataproc_cluster.dataproc-cluster: Still creating... [20s elapsed]\u001b[0m\u001b[0m\n",
            "\u001b[0m\u001b[1mmodule.dataproc.google_dataproc_cluster.dataproc-cluster: Still creating... [30s elapsed]\u001b[0m\u001b[0m\n",
            "\u001b[0m\u001b[1mmodule.dataproc.google_dataproc_cluster.dataproc-cluster: Still creating... [40s elapsed]\u001b[0m\u001b[0m\n",
            "\u001b[0m\u001b[1mmodule.dataproc.google_dataproc_cluster.dataproc-cluster: Still creating... [50s elapsed]\u001b[0m\u001b[0m\n",
            "\u001b[0m\u001b[1mmodule.dataproc.google_dataproc_cluster.dataproc-cluster: Still creating... [1m0s elapsed]\u001b[0m\u001b[0m\n",
            "\u001b[0m\u001b[1mmodule.dataproc.google_dataproc_cluster.dataproc-cluster: Still creating... [1m10s elapsed]\u001b[0m\u001b[0m\n",
            "\u001b[0m\u001b[1mmodule.dataproc.google_dataproc_cluster.dataproc-cluster: Still creating... [1m20s elapsed]\u001b[0m\u001b[0m\n",
            "\u001b[0m\u001b[1mmodule.dataproc.google_dataproc_cluster.dataproc-cluster: Still creating... [1m30s elapsed]\u001b[0m\u001b[0m\n",
            "\u001b[0m\u001b[1mmodule.dataproc.google_dataproc_cluster.dataproc-cluster: Still creating... [1m40s elapsed]\u001b[0m\u001b[0m\n",
            "\u001b[0m\u001b[1mmodule.dataproc.google_dataproc_cluster.dataproc-cluster: Still creating... [1m50s elapsed]\u001b[0m\u001b[0m\n",
            "\u001b[0m\u001b[1mmodule.dataproc.google_dataproc_cluster.dataproc-cluster: Still creating... [2m0s elapsed]\u001b[0m\u001b[0m\n",
            "\u001b[0m\u001b[1mmodule.dataproc.google_dataproc_cluster.dataproc-cluster: Still creating... [2m10s elapsed]\u001b[0m\u001b[0m\n",
            "\u001b[0m\u001b[1mmodule.dataproc.google_dataproc_cluster.dataproc-cluster: Still creating... [2m20s elapsed]\u001b[0m\u001b[0m\n",
            "\u001b[0m\u001b[1mmodule.dataproc.google_dataproc_cluster.dataproc-cluster: Still creating... [2m30s elapsed]\u001b[0m\u001b[0m\n",
            "\u001b[0m\u001b[1mmodule.dataproc.google_dataproc_cluster.dataproc-cluster: Still creating... [2m40s elapsed]\u001b[0m\u001b[0m\n",
            "\u001b[0m\u001b[1mmodule.dataproc.google_dataproc_cluster.dataproc-cluster: Still creating... [2m50s elapsed]\u001b[0m\u001b[0m\n",
            "\u001b[0m\u001b[1mmodule.dataproc.google_dataproc_cluster.dataproc-cluster: Still creating... [3m0s elapsed]\u001b[0m\u001b[0m\n",
            "\u001b[0m\u001b[1mmodule.dataproc.google_dataproc_cluster.dataproc-cluster: Still creating... [3m10s elapsed]\u001b[0m\u001b[0m\n",
            "\u001b[0m\u001b[1mmodule.dataproc.google_dataproc_cluster.dataproc-cluster: Still creating... [3m20s elapsed]\u001b[0m\u001b[0m\n",
            "\u001b[0m\u001b[1mmodule.dataproc.google_dataproc_cluster.dataproc-cluster: Still creating... [3m30s elapsed]\u001b[0m\u001b[0m\n",
            "\u001b[0m\u001b[1mmodule.dataproc.google_dataproc_cluster.dataproc-cluster: Still creating... [3m40s elapsed]\u001b[0m\u001b[0m\n",
            "\u001b[0m\u001b[1mmodule.dataproc.google_dataproc_cluster.dataproc-cluster: Still creating... [3m50s elapsed]\u001b[0m\u001b[0m\n",
            "\u001b[0m\u001b[1mmodule.dataproc.google_dataproc_cluster.dataproc-cluster: Still creating... [4m0s elapsed]\u001b[0m\u001b[0m\n",
            "\u001b[0m\u001b[1mmodule.dataproc.google_dataproc_cluster.dataproc-cluster: Still creating... [4m10s elapsed]\u001b[0m\u001b[0m\n",
            "\u001b[0m\u001b[1mmodule.dataproc.google_dataproc_cluster.dataproc-cluster: Still creating... [4m20s elapsed]\u001b[0m\u001b[0m\n",
            "\u001b[0m\u001b[1mmodule.dataproc.google_dataproc_cluster.dataproc-cluster: Still creating... [4m30s elapsed]\u001b[0m\u001b[0m\n",
            "\u001b[0m\u001b[1mmodule.dataproc.google_dataproc_cluster.dataproc-cluster: Still creating... [4m40s elapsed]\u001b[0m\u001b[0m\n",
            "\u001b[0m\u001b[1mmodule.dataproc.google_dataproc_cluster.dataproc-cluster: Still creating... [4m50s elapsed]\u001b[0m\u001b[0m\n",
            "\u001b[0m\u001b[1mmodule.dataproc.google_dataproc_cluster.dataproc-cluster: Still creating... [5m0s elapsed]\u001b[0m\u001b[0m\n",
            "\u001b[0m\u001b[1mmodule.dataproc.google_dataproc_cluster.dataproc-cluster: Still creating... [5m10s elapsed]\u001b[0m\u001b[0m\n",
            "\u001b[0m\u001b[1mmodule.dataproc.google_dataproc_cluster.dataproc-cluster: Still creating... [5m20s elapsed]\u001b[0m\u001b[0m\n",
            "\u001b[0m\u001b[1mmodule.dataproc.google_dataproc_cluster.dataproc-cluster: Still creating... [5m30s elapsed]\u001b[0m\u001b[0m\n",
            "\u001b[0m\u001b[1mmodule.dataproc.google_dataproc_cluster.dataproc-cluster: Still creating... [5m40s elapsed]\u001b[0m\u001b[0m\n",
            "\u001b[0m\u001b[1mmodule.dataproc.google_dataproc_cluster.dataproc-cluster: Still creating... [5m50s elapsed]\u001b[0m\u001b[0m\n",
            "\u001b[0m\u001b[1mmodule.dataproc.google_dataproc_cluster.dataproc-cluster: Still creating... [6m0s elapsed]\u001b[0m\u001b[0m\n",
            "\u001b[0m\u001b[1mmodule.dataproc.google_dataproc_cluster.dataproc-cluster: Still creating... [6m10s elapsed]\u001b[0m\u001b[0m\n",
            "\u001b[0m\u001b[1mmodule.dataproc.google_dataproc_cluster.dataproc-cluster: Still creating... [6m20s elapsed]\u001b[0m\u001b[0m\n",
            "\u001b[0m\u001b[1mmodule.dataproc.google_dataproc_cluster.dataproc-cluster: Still creating... [6m30s elapsed]\u001b[0m\u001b[0m\n",
            "\u001b[0m\u001b[1mmodule.dataproc.google_dataproc_cluster.dataproc-cluster: Still creating... [6m40s elapsed]\u001b[0m\u001b[0m\n",
            "\u001b[0m\u001b[1mmodule.dataproc.google_dataproc_cluster.dataproc-cluster: Still creating... [6m50s elapsed]\u001b[0m\u001b[0m\n",
            "\u001b[0m\u001b[1mmodule.dataproc.google_dataproc_cluster.dataproc-cluster: Still creating... [7m0s elapsed]\u001b[0m\u001b[0m\n",
            "\u001b[0m\u001b[1mmodule.dataproc.google_dataproc_cluster.dataproc-cluster: Still creating... [7m10s elapsed]\u001b[0m\u001b[0m\n",
            "\u001b[0m\u001b[1mmodule.dataproc.google_dataproc_cluster.dataproc-cluster: Still creating... [7m20s elapsed]\u001b[0m\u001b[0m\n",
            "\u001b[0m\u001b[1mmodule.dataproc.google_dataproc_cluster.dataproc-cluster: Still creating... [7m30s elapsed]\u001b[0m\u001b[0m\n",
            "\u001b[0m\u001b[1mmodule.dataproc.google_dataproc_cluster.dataproc-cluster: Still creating... [7m40s elapsed]\u001b[0m\u001b[0m\n",
            "\u001b[0m\u001b[1mmodule.dataproc.google_dataproc_cluster.dataproc-cluster: Still creating... [7m50s elapsed]\u001b[0m\u001b[0m\n",
            "\u001b[0m\u001b[1mmodule.dataproc.google_dataproc_cluster.dataproc-cluster: Creation complete after 7m50s [id=projects/ds-2024l-8001/regions/europe-west1/clusters/ds-cluster]\u001b[0m\n",
            "\u001b[0m\u001b[1m\u001b[32m\n",
            "Apply complete! Resources: 1 added, 0 changed, 0 destroyed.\n",
            "\u001b[0m"
          ]
        },
        {
          "output_type": "execute_result",
          "data": {
            "text/plain": []
          },
          "metadata": {},
          "execution_count": 18
        }
      ],
      "source": [
        "%%shell\n",
        "cd $REPO_NAME/infra\n",
        "terraform apply -auto-approve"
      ]
    },
    {
      "cell_type": "markdown",
      "id": "11",
      "metadata": {
        "id": "11"
      },
      "source": [
        "### Destroy the infrastructure\n",
        "After you are done with the lab, you can destroy the infrastructure by running the cell below:"
      ]
    },
    {
      "cell_type": "code",
      "execution_count": null,
      "id": "12",
      "metadata": {
        "id": "12"
      },
      "outputs": [],
      "source": [
        "# %%shell\n",
        "# cd $REPO_NAME/infra\n",
        "# terraform destroy -auto-approve"
      ]
    }
  ],
  "metadata": {
    "kernelspec": {
      "display_name": "Python 3",
      "language": "python",
      "name": "python3"
    },
    "language_info": {
      "codemirror_mode": {
        "name": "ipython",
        "version": 2
      },
      "file_extension": ".py",
      "mimetype": "text/x-python",
      "name": "python",
      "nbconvert_exporter": "python",
      "pygments_lexer": "ipython2"
    },
    "colab": {
      "provenance": [],
      "include_colab_link": true
    }
  },
  "nbformat": 4,
  "nbformat_minor": 5
}