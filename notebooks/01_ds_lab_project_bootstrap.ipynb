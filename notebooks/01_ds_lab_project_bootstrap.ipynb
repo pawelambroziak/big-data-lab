{
  "cells": [
    {
      "cell_type": "markdown",
      "metadata": {
        "id": "PRsOu_hkY2SN"
      },
      "source": [
        "## Infrastruture as Code git repo cloning\n"
      ]
    },
    {
      "cell_type": "code",
      "execution_count": 1,
      "metadata": {
        "id": "zw25BVKtY2SX"
      },
      "outputs": [],
      "source": [
        "REPO_NAME=\"big-data-lab\"\n",
        "USER_NAME=\"pawelambroziak\" # TODO: replace with your GitHub username"
      ]
    },
    {
      "cell_type": "code",
      "execution_count": 2,
      "metadata": {
        "id": "Kwh3fS58Y2Sd",
        "outputId": "7381048e-88b6-4fe2-8c13-8b8e7d743a31",
        "colab": {
          "base_uri": "https://localhost:8080/"
        }
      },
      "outputs": [
        {
          "output_type": "stream",
          "name": "stdout",
          "text": [
            "env: REPO_NAME=big-data-lab\n",
            "env: USER_NAME=pawelambroziak\n"
          ]
        }
      ],
      "source": [
        "%env REPO_NAME=$REPO_NAME\n",
        "%env USER_NAME=$USER_NAME"
      ]
    },
    {
      "cell_type": "code",
      "execution_count": 3,
      "metadata": {
        "id": "eKeZGSpFY2Sh",
        "outputId": "765b74a1-bb0b-40bb-8a5f-726f67a9a521",
        "colab": {
          "base_uri": "https://localhost:8080/"
        }
      },
      "outputs": [
        {
          "output_type": "stream",
          "name": "stdout",
          "text": [
            "Cloning into 'big-data-lab'...\n",
            "remote: Enumerating objects: 111, done.\u001b[K\n",
            "remote: Counting objects: 100% (46/46), done.\u001b[K\n",
            "remote: Compressing objects: 100% (34/34), done.\u001b[K\n",
            "remote: Total 111 (delta 27), reused 12 (delta 12), pack-reused 65 (from 2)\u001b[K\n",
            "Receiving objects: 100% (111/111), 449.12 KiB | 7.49 MiB/s, done.\n",
            "Resolving deltas: 100% (43/43), done.\n"
          ]
        },
        {
          "output_type": "execute_result",
          "data": {
            "text/plain": []
          },
          "metadata": {},
          "execution_count": 3
        }
      ],
      "source": [
        "%%shell\n",
        "rm -rf $REPO_NAME\n",
        "git clone https://github.com/$USER_NAME/$REPO_NAME.git\n",
        "cd $REPO_NAME"
      ]
    },
    {
      "cell_type": "markdown",
      "metadata": {
        "id": "8HDT0p-jY2Si"
      },
      "source": [
        "## Setup Terraform"
      ]
    },
    {
      "cell_type": "code",
      "execution_count": 4,
      "metadata": {
        "id": "RLgEwAqlY2Sj",
        "outputId": "cbc40376-e148-40c2-d8d5-7b0a82bb3763",
        "colab": {
          "base_uri": "https://localhost:8080/"
        }
      },
      "outputs": [
        {
          "output_type": "stream",
          "name": "stdout",
          "text": [
            "env: TERRAFORM_VERSION=1.9.8\n",
            "env: PATH=/content/bin:/opt/bin:/usr/local/nvidia/bin:/usr/local/cuda/bin:/usr/local/sbin:/usr/local/bin:/usr/sbin:/usr/bin:/sbin:/bin:/tools/node/bin:/tools/google-cloud-sdk/bin\n",
            "--2024-12-22 12:42:49--  https://releases.hashicorp.com/terraform/1.9.8/terraform_1.9.8_linux_amd64.zip\n",
            "Resolving releases.hashicorp.com (releases.hashicorp.com)... 18.160.60.2, 18.160.60.122, 18.160.60.78, ...\n",
            "Connecting to releases.hashicorp.com (releases.hashicorp.com)|18.160.60.2|:443... connected.\n",
            "HTTP request sent, awaiting response... 200 OK\n",
            "Length: 27041434 (26M) [application/zip]\n",
            "Saving to: ‘terraform_1.9.8_linux_amd64.zip’\n",
            "\n",
            "terraform_1.9.8_lin 100%[===================>]  25.79M   135MB/s    in 0.2s    \n",
            "\n",
            "2024-12-22 12:42:49 (135 MB/s) - ‘terraform_1.9.8_linux_amd64.zip’ saved [27041434/27041434]\n",
            "\n",
            "Archive:  terraform_1.9.8_linux_amd64.zip\n",
            "  inflating: bin/LICENSE.txt         \n",
            "  inflating: bin/terraform           \n",
            "Terraform v1.9.8\n",
            "on linux_amd64\n",
            "\n",
            "Your version of Terraform is out of date! The latest version\n",
            "is 1.10.2. You can update by downloading from https://www.terraform.io/downloads.html\n"
          ]
        }
      ],
      "source": [
        "%run $REPO_NAME/notebooks/lib/00_terraform_setup.ipynb"
      ]
    },
    {
      "cell_type": "markdown",
      "metadata": {
        "id": "3eJlZSINY2Sl"
      },
      "source": [
        "## Lab configuration\n",
        "1. Edit `$REPO_NAME/notebooks/conf/00_env_variables.ipynb`"
      ]
    },
    {
      "cell_type": "code",
      "execution_count": 5,
      "metadata": {
        "id": "s1idQlJ9Y2So",
        "outputId": "6e4d2a42-a6cb-4d99-9fb1-c46f64aa653d",
        "colab": {
          "base_uri": "https://localhost:8080/"
        }
      },
      "outputs": [
        {
          "output_type": "stream",
          "name": "stdout",
          "text": [
            "env: TF_VAR_ds_semester=2024l\n",
            "env: TF_VAR_user_id=7001\n",
            "env: TF_VAR_billing_account=017A30-C0B82F-FC5773\n",
            "env: TF_VAR_region=europe-west1\n",
            "env: TF_VAR_project_name=ds-2024l-7001\n",
            "env: GIT_BRANCH=colab-dev\n"
          ]
        }
      ],
      "source": [
        "%run $REPO_NAME/notebooks/conf/00_env_variables.ipynb"
      ]
    },
    {
      "cell_type": "markdown",
      "metadata": {
        "id": "T52OHeMdY2Sp"
      },
      "source": [
        "## Google account authentication"
      ]
    },
    {
      "cell_type": "code",
      "execution_count": 6,
      "metadata": {
        "id": "Q25jVdJoY2Sq"
      },
      "outputs": [],
      "source": [
        "# Authenticate to the Google account\n",
        "from google.colab import auth\n",
        "auth.authenticate_user()"
      ]
    },
    {
      "cell_type": "markdown",
      "metadata": {
        "id": "i9Q2sT3fY2Sq"
      },
      "source": [
        "## Validating the infrastructure execution plan"
      ]
    },
    {
      "cell_type": "code",
      "execution_count": 7,
      "metadata": {
        "id": "BSGMJWIpY2Sr",
        "outputId": "01f1995c-33fd-49c0-9cc0-bb5215bf78e7",
        "colab": {
          "base_uri": "https://localhost:8080/"
        }
      },
      "outputs": [
        {
          "output_type": "stream",
          "name": "stdout",
          "text": [
            "\u001b[0m\u001b[1mInitializing the backend...\u001b[0m\n",
            "\u001b[0m\u001b[1mInitializing provider plugins...\u001b[0m\n",
            "- Finding hashicorp/google versions matching \"~> 6.12.0\"...\n",
            "- Installing hashicorp/google v6.12.0...\n",
            "- Installed hashicorp/google v6.12.0 (signed by HashiCorp)\n",
            "Terraform has created a lock file \u001b[1m.terraform.lock.hcl\u001b[0m to record the provider\n",
            "selections it made above. Include this file in your version control repository\n",
            "so that Terraform can guarantee to make the same selections by default when\n",
            "you run \"terraform init\" in the future.\u001b[0m\n",
            "\n",
            "\u001b[0m\u001b[1m\u001b[32mTerraform has been successfully initialized!\u001b[0m\u001b[32m\u001b[0m\n",
            "\u001b[0m\u001b[32m\n",
            "You may now begin working with Terraform. Try running \"terraform plan\" to see\n",
            "any changes that are required for your infrastructure. All Terraform commands\n",
            "should now work.\n",
            "\n",
            "If you ever set or change modules or backend configuration for Terraform,\n",
            "rerun this command to reinitialize your working directory. If you forget, other\n",
            "commands will detect it and remind you to do so if necessary.\u001b[0m\n",
            "\n",
            "Terraform used the selected providers to generate the following execution plan. Resource actions are indicated with the following symbols:\n",
            "  \u001b[32m+\u001b[0m create\u001b[0m\n",
            "\n",
            "Terraform will perform the following actions:\n",
            "\n",
            "\u001b[1m  # google_project.tbd_project\u001b[0m will be created\n",
            "\u001b[0m  \u001b[32m+\u001b[0m\u001b[0m resource \"google_project\" \"tbd_project\" {\n",
            "      \u001b[32m+\u001b[0m\u001b[0m auto_create_network = false\n",
            "      \u001b[32m+\u001b[0m\u001b[0m billing_account     = \"017A30-C0B82F-FC5773\"\n",
            "      \u001b[32m+\u001b[0m\u001b[0m deletion_policy     = \"PREVENT\"\n",
            "      \u001b[32m+\u001b[0m\u001b[0m effective_labels    = {\n",
            "          \u001b[32m+\u001b[0m\u001b[0m \"goog-terraform-provisioned\" = \"true\"\n",
            "        }\n",
            "      \u001b[32m+\u001b[0m\u001b[0m id                  = (known after apply)\n",
            "      \u001b[32m+\u001b[0m\u001b[0m name                = \"Lab ds-2024l-7001\"\n",
            "      \u001b[32m+\u001b[0m\u001b[0m number              = (known after apply)\n",
            "      \u001b[32m+\u001b[0m\u001b[0m project_id          = \"ds-2024l-7001\"\n",
            "      \u001b[32m+\u001b[0m\u001b[0m terraform_labels    = {\n",
            "          \u001b[32m+\u001b[0m\u001b[0m \"goog-terraform-provisioned\" = \"true\"\n",
            "        }\n",
            "    }\n",
            "\n",
            "\u001b[1m  # google_project_iam_audit_config.tbd_project_audit\u001b[0m will be created\n",
            "\u001b[0m  \u001b[32m+\u001b[0m\u001b[0m resource \"google_project_iam_audit_config\" \"tbd_project_audit\" {\n",
            "      \u001b[32m+\u001b[0m\u001b[0m etag    = (known after apply)\n",
            "      \u001b[32m+\u001b[0m\u001b[0m id      = (known after apply)\n",
            "      \u001b[32m+\u001b[0m\u001b[0m project = (known after apply)\n",
            "      \u001b[32m+\u001b[0m\u001b[0m service = \"allServices\"\n",
            "\n",
            "      \u001b[32m+\u001b[0m\u001b[0m audit_log_config {\n",
            "          \u001b[32m+\u001b[0m\u001b[0m exempted_members = []\n",
            "          \u001b[32m+\u001b[0m\u001b[0m log_type         = \"ADMIN_READ\"\n",
            "        }\n",
            "      \u001b[32m+\u001b[0m\u001b[0m audit_log_config {\n",
            "          \u001b[32m+\u001b[0m\u001b[0m exempted_members = []\n",
            "          \u001b[32m+\u001b[0m\u001b[0m log_type         = \"DATA_READ\"\n",
            "        }\n",
            "      \u001b[32m+\u001b[0m\u001b[0m audit_log_config {\n",
            "          \u001b[32m+\u001b[0m\u001b[0m exempted_members = []\n",
            "          \u001b[32m+\u001b[0m\u001b[0m log_type         = \"DATA_WRITE\"\n",
            "        }\n",
            "    }\n",
            "\n",
            "\u001b[1m  # google_project_iam_member.editor-member\u001b[0m will be created\n",
            "\u001b[0m  \u001b[32m+\u001b[0m\u001b[0m resource \"google_project_iam_member\" \"editor-member\" {\n",
            "      \u001b[32m+\u001b[0m\u001b[0m etag    = (known after apply)\n",
            "      \u001b[32m+\u001b[0m\u001b[0m id      = (known after apply)\n",
            "      \u001b[32m+\u001b[0m\u001b[0m member  = (known after apply)\n",
            "      \u001b[32m+\u001b[0m\u001b[0m project = \"ds-2024l-7001\"\n",
            "      \u001b[32m+\u001b[0m\u001b[0m role    = \"roles/owner\"\n",
            "    }\n",
            "\n",
            "\u001b[1m  # google_project_iam_member.editor-supervisors[\"user:marek.wiewiorka@gmail.com\"]\u001b[0m will be created\n",
            "\u001b[0m  \u001b[32m+\u001b[0m\u001b[0m resource \"google_project_iam_member\" \"editor-supervisors\" {\n",
            "      \u001b[32m+\u001b[0m\u001b[0m etag    = (known after apply)\n",
            "      \u001b[32m+\u001b[0m\u001b[0m id      = (known after apply)\n",
            "      \u001b[32m+\u001b[0m\u001b[0m member  = \"user:marek.wiewiorka@gmail.com\"\n",
            "      \u001b[32m+\u001b[0m\u001b[0m project = \"ds-2024l-7001\"\n",
            "      \u001b[32m+\u001b[0m\u001b[0m role    = \"roles/editor\"\n",
            "    }\n",
            "\n",
            "\u001b[1m  # google_project_iam_member.editor-supervisors[\"user:sitekwb@gmail.com\"]\u001b[0m will be created\n",
            "\u001b[0m  \u001b[32m+\u001b[0m\u001b[0m resource \"google_project_iam_member\" \"editor-supervisors\" {\n",
            "      \u001b[32m+\u001b[0m\u001b[0m etag    = (known after apply)\n",
            "      \u001b[32m+\u001b[0m\u001b[0m id      = (known after apply)\n",
            "      \u001b[32m+\u001b[0m\u001b[0m member  = \"user:sitekwb@gmail.com\"\n",
            "      \u001b[32m+\u001b[0m\u001b[0m project = \"ds-2024l-7001\"\n",
            "      \u001b[32m+\u001b[0m\u001b[0m role    = \"roles/editor\"\n",
            "    }\n",
            "\n",
            "\u001b[1m  # google_project_iam_member.editor-supervisors[\"user:tgambin@gmail.com\"]\u001b[0m will be created\n",
            "\u001b[0m  \u001b[32m+\u001b[0m\u001b[0m resource \"google_project_iam_member\" \"editor-supervisors\" {\n",
            "      \u001b[32m+\u001b[0m\u001b[0m etag    = (known after apply)\n",
            "      \u001b[32m+\u001b[0m\u001b[0m id      = (known after apply)\n",
            "      \u001b[32m+\u001b[0m\u001b[0m member  = \"user:tgambin@gmail.com\"\n",
            "      \u001b[32m+\u001b[0m\u001b[0m project = \"ds-2024l-7001\"\n",
            "      \u001b[32m+\u001b[0m\u001b[0m role    = \"roles/editor\"\n",
            "    }\n",
            "\n",
            "\u001b[1m  # google_project_service.service[\"cloudresourcemanager.googleapis.com\"]\u001b[0m will be created\n",
            "\u001b[0m  \u001b[32m+\u001b[0m\u001b[0m resource \"google_project_service\" \"service\" {\n",
            "      \u001b[32m+\u001b[0m\u001b[0m disable_dependent_services = true\n",
            "      \u001b[32m+\u001b[0m\u001b[0m disable_on_destroy         = true\n",
            "      \u001b[32m+\u001b[0m\u001b[0m id                         = (known after apply)\n",
            "      \u001b[32m+\u001b[0m\u001b[0m project                    = \"ds-2024l-7001\"\n",
            "      \u001b[32m+\u001b[0m\u001b[0m service                    = \"cloudresourcemanager.googleapis.com\"\n",
            "    }\n",
            "\n",
            "\u001b[1m  # google_project_service.service[\"iam.googleapis.com\"]\u001b[0m will be created\n",
            "\u001b[0m  \u001b[32m+\u001b[0m\u001b[0m resource \"google_project_service\" \"service\" {\n",
            "      \u001b[32m+\u001b[0m\u001b[0m disable_dependent_services = true\n",
            "      \u001b[32m+\u001b[0m\u001b[0m disable_on_destroy         = true\n",
            "      \u001b[32m+\u001b[0m\u001b[0m id                         = (known after apply)\n",
            "      \u001b[32m+\u001b[0m\u001b[0m project                    = \"ds-2024l-7001\"\n",
            "      \u001b[32m+\u001b[0m\u001b[0m service                    = \"iam.googleapis.com\"\n",
            "    }\n",
            "\n",
            "\u001b[1m  # google_project_service.service[\"iamcredentials.googleapis.com\"]\u001b[0m will be created\n",
            "\u001b[0m  \u001b[32m+\u001b[0m\u001b[0m resource \"google_project_service\" \"service\" {\n",
            "      \u001b[32m+\u001b[0m\u001b[0m disable_dependent_services = true\n",
            "      \u001b[32m+\u001b[0m\u001b[0m disable_on_destroy         = true\n",
            "      \u001b[32m+\u001b[0m\u001b[0m id                         = (known after apply)\n",
            "      \u001b[32m+\u001b[0m\u001b[0m project                    = \"ds-2024l-7001\"\n",
            "      \u001b[32m+\u001b[0m\u001b[0m service                    = \"iamcredentials.googleapis.com\"\n",
            "    }\n",
            "\n",
            "\u001b[1m  # google_project_service.service[\"serviceusage.googleapis.com\"]\u001b[0m will be created\n",
            "\u001b[0m  \u001b[32m+\u001b[0m\u001b[0m resource \"google_project_service\" \"service\" {\n",
            "      \u001b[32m+\u001b[0m\u001b[0m disable_dependent_services = true\n",
            "      \u001b[32m+\u001b[0m\u001b[0m disable_on_destroy         = true\n",
            "      \u001b[32m+\u001b[0m\u001b[0m id                         = (known after apply)\n",
            "      \u001b[32m+\u001b[0m\u001b[0m project                    = \"ds-2024l-7001\"\n",
            "      \u001b[32m+\u001b[0m\u001b[0m service                    = \"serviceusage.googleapis.com\"\n",
            "    }\n",
            "\n",
            "\u001b[1m  # google_project_service.service[\"sts.googleapis.com\"]\u001b[0m will be created\n",
            "\u001b[0m  \u001b[32m+\u001b[0m\u001b[0m resource \"google_project_service\" \"service\" {\n",
            "      \u001b[32m+\u001b[0m\u001b[0m disable_dependent_services = true\n",
            "      \u001b[32m+\u001b[0m\u001b[0m disable_on_destroy         = true\n",
            "      \u001b[32m+\u001b[0m\u001b[0m id                         = (known after apply)\n",
            "      \u001b[32m+\u001b[0m\u001b[0m project                    = \"ds-2024l-7001\"\n",
            "      \u001b[32m+\u001b[0m\u001b[0m service                    = \"sts.googleapis.com\"\n",
            "    }\n",
            "\n",
            "\u001b[1m  # google_service_account.terraform\u001b[0m will be created\n",
            "\u001b[0m  \u001b[32m+\u001b[0m\u001b[0m resource \"google_service_account\" \"terraform\" {\n",
            "      \u001b[32m+\u001b[0m\u001b[0m account_id = \"ds-2024l-7001-lab\"\n",
            "      \u001b[32m+\u001b[0m\u001b[0m disabled   = false\n",
            "      \u001b[32m+\u001b[0m\u001b[0m email      = (known after apply)\n",
            "      \u001b[32m+\u001b[0m\u001b[0m id         = (known after apply)\n",
            "      \u001b[32m+\u001b[0m\u001b[0m member     = (known after apply)\n",
            "      \u001b[32m+\u001b[0m\u001b[0m name       = (known after apply)\n",
            "      \u001b[32m+\u001b[0m\u001b[0m project    = \"ds-2024l-7001\"\n",
            "      \u001b[32m+\u001b[0m\u001b[0m unique_id  = (known after apply)\n",
            "    }\n",
            "\n",
            "\u001b[1m  # google_storage_bucket.notebook-bucket\u001b[0m will be created\n",
            "\u001b[0m  \u001b[32m+\u001b[0m\u001b[0m resource \"google_storage_bucket\" \"notebook-bucket\" {\n",
            "      \u001b[32m+\u001b[0m\u001b[0m effective_labels            = {\n",
            "          \u001b[32m+\u001b[0m\u001b[0m \"goog-terraform-provisioned\" = \"true\"\n",
            "        }\n",
            "      \u001b[32m+\u001b[0m\u001b[0m force_destroy               = true\n",
            "      \u001b[32m+\u001b[0m\u001b[0m id                          = (known after apply)\n",
            "      \u001b[32m+\u001b[0m\u001b[0m location                    = \"EUROPE-WEST1\"\n",
            "      \u001b[32m+\u001b[0m\u001b[0m name                        = \"ds-2024l-7001-notebook-data\"\n",
            "      \u001b[32m+\u001b[0m\u001b[0m project                     = \"ds-2024l-7001\"\n",
            "      \u001b[32m+\u001b[0m\u001b[0m project_number              = (known after apply)\n",
            "      \u001b[32m+\u001b[0m\u001b[0m public_access_prevention    = \"enforced\"\n",
            "      \u001b[32m+\u001b[0m\u001b[0m rpo                         = (known after apply)\n",
            "      \u001b[32m+\u001b[0m\u001b[0m self_link                   = (known after apply)\n",
            "      \u001b[32m+\u001b[0m\u001b[0m storage_class               = \"STANDARD\"\n",
            "      \u001b[32m+\u001b[0m\u001b[0m terraform_labels            = {\n",
            "          \u001b[32m+\u001b[0m\u001b[0m \"goog-terraform-provisioned\" = \"true\"\n",
            "        }\n",
            "      \u001b[32m+\u001b[0m\u001b[0m uniform_bucket_level_access = true\n",
            "      \u001b[32m+\u001b[0m\u001b[0m url                         = (known after apply)\n",
            "\n",
            "      \u001b[32m+\u001b[0m\u001b[0m soft_delete_policy (known after apply)\n",
            "\n",
            "      \u001b[32m+\u001b[0m\u001b[0m versioning (known after apply)\n",
            "\n",
            "      \u001b[32m+\u001b[0m\u001b[0m website (known after apply)\n",
            "    }\n",
            "\n",
            "\u001b[1m  # google_storage_bucket.state-bucket\u001b[0m will be created\n",
            "\u001b[0m  \u001b[32m+\u001b[0m\u001b[0m resource \"google_storage_bucket\" \"state-bucket\" {\n",
            "      \u001b[32m+\u001b[0m\u001b[0m effective_labels            = {\n",
            "          \u001b[32m+\u001b[0m\u001b[0m \"goog-terraform-provisioned\" = \"true\"\n",
            "        }\n",
            "      \u001b[32m+\u001b[0m\u001b[0m force_destroy               = true\n",
            "      \u001b[32m+\u001b[0m\u001b[0m id                          = (known after apply)\n",
            "      \u001b[32m+\u001b[0m\u001b[0m location                    = \"EUROPE-WEST1\"\n",
            "      \u001b[32m+\u001b[0m\u001b[0m name                        = \"ds-2024l-7001-state\"\n",
            "      \u001b[32m+\u001b[0m\u001b[0m project                     = \"ds-2024l-7001\"\n",
            "      \u001b[32m+\u001b[0m\u001b[0m project_number              = (known after apply)\n",
            "      \u001b[32m+\u001b[0m\u001b[0m public_access_prevention    = \"enforced\"\n",
            "      \u001b[32m+\u001b[0m\u001b[0m rpo                         = (known after apply)\n",
            "      \u001b[32m+\u001b[0m\u001b[0m self_link                   = (known after apply)\n",
            "      \u001b[32m+\u001b[0m\u001b[0m storage_class               = \"STANDARD\"\n",
            "      \u001b[32m+\u001b[0m\u001b[0m terraform_labels            = {\n",
            "          \u001b[32m+\u001b[0m\u001b[0m \"goog-terraform-provisioned\" = \"true\"\n",
            "        }\n",
            "      \u001b[32m+\u001b[0m\u001b[0m uniform_bucket_level_access = false\n",
            "      \u001b[32m+\u001b[0m\u001b[0m url                         = (known after apply)\n",
            "\n",
            "      \u001b[32m+\u001b[0m\u001b[0m soft_delete_policy (known after apply)\n",
            "\n",
            "      \u001b[32m+\u001b[0m\u001b[0m versioning (known after apply)\n",
            "\n",
            "      \u001b[32m+\u001b[0m\u001b[0m website (known after apply)\n",
            "    }\n",
            "\n",
            "\u001b[1mPlan:\u001b[0m 14 to add, 0 to change, 0 to destroy.\n",
            "\u001b[0m\n",
            "Changes to Outputs:\n",
            "  \u001b[32m+\u001b[0m\u001b[0m project_name              = \"ds-2024l-7001\"\n",
            "  \u001b[32m+\u001b[0m\u001b[0m terraform_service_account = (known after apply)\n",
            "  \u001b[32m+\u001b[0m\u001b[0m terraform_state_bucket    = (known after apply)\n",
            "\n",
            "\n",
            "\n",
            "Note: You didn't use the -out option to save this plan, so Terraform can't guarantee to take exactly these actions if you run \"terraform apply\" now.\n"
          ]
        },
        {
          "output_type": "execute_result",
          "data": {
            "text/plain": []
          },
          "metadata": {},
          "execution_count": 7
        }
      ],
      "source": [
        "%%shell\n",
        "cd $REPO_NAME/infra/bootstrap\n",
        "terraform init\n",
        "terraform plan"
      ]
    },
    {
      "cell_type": "markdown",
      "metadata": {
        "id": "ls4imUYXY2Sr"
      },
      "source": [
        "## Initial project setup\n",
        "\n",
        "* You're going to provision a new project.\n",
        "* In the first step you only do a very basic setup, e.g.\n",
        "  * enabling cloud services,\n",
        "  * creating a bucket for a Terraform state file and\n",
        "  * granting Editor roles to the lab instructors.\n",
        "* You can run below cells multiple time to observe the difference.\n",
        "\n"
      ]
    },
    {
      "cell_type": "code",
      "execution_count": 8,
      "metadata": {
        "id": "0RwY3MKFY2Ss",
        "outputId": "80eb481f-4bca-45b4-ddd9-c0ebbf0e084a",
        "colab": {
          "base_uri": "https://localhost:8080/"
        }
      },
      "outputs": [
        {
          "output_type": "stream",
          "name": "stdout",
          "text": [
            "\n",
            "Terraform used the selected providers to generate the following execution plan. Resource actions are indicated with the following symbols:\n",
            "  \u001b[32m+\u001b[0m create\u001b[0m\n",
            "\n",
            "Terraform will perform the following actions:\n",
            "\n",
            "\u001b[1m  # google_project.tbd_project\u001b[0m will be created\n",
            "\u001b[0m  \u001b[32m+\u001b[0m\u001b[0m resource \"google_project\" \"tbd_project\" {\n",
            "      \u001b[32m+\u001b[0m\u001b[0m auto_create_network = false\n",
            "      \u001b[32m+\u001b[0m\u001b[0m billing_account     = \"017A30-C0B82F-FC5773\"\n",
            "      \u001b[32m+\u001b[0m\u001b[0m deletion_policy     = \"PREVENT\"\n",
            "      \u001b[32m+\u001b[0m\u001b[0m effective_labels    = {\n",
            "          \u001b[32m+\u001b[0m\u001b[0m \"goog-terraform-provisioned\" = \"true\"\n",
            "        }\n",
            "      \u001b[32m+\u001b[0m\u001b[0m id                  = (known after apply)\n",
            "      \u001b[32m+\u001b[0m\u001b[0m name                = \"Lab ds-2024l-7001\"\n",
            "      \u001b[32m+\u001b[0m\u001b[0m number              = (known after apply)\n",
            "      \u001b[32m+\u001b[0m\u001b[0m project_id          = \"ds-2024l-7001\"\n",
            "      \u001b[32m+\u001b[0m\u001b[0m terraform_labels    = {\n",
            "          \u001b[32m+\u001b[0m\u001b[0m \"goog-terraform-provisioned\" = \"true\"\n",
            "        }\n",
            "    }\n",
            "\n",
            "\u001b[1m  # google_project_iam_audit_config.tbd_project_audit\u001b[0m will be created\n",
            "\u001b[0m  \u001b[32m+\u001b[0m\u001b[0m resource \"google_project_iam_audit_config\" \"tbd_project_audit\" {\n",
            "      \u001b[32m+\u001b[0m\u001b[0m etag    = (known after apply)\n",
            "      \u001b[32m+\u001b[0m\u001b[0m id      = (known after apply)\n",
            "      \u001b[32m+\u001b[0m\u001b[0m project = (known after apply)\n",
            "      \u001b[32m+\u001b[0m\u001b[0m service = \"allServices\"\n",
            "\n",
            "      \u001b[32m+\u001b[0m\u001b[0m audit_log_config {\n",
            "          \u001b[32m+\u001b[0m\u001b[0m exempted_members = []\n",
            "          \u001b[32m+\u001b[0m\u001b[0m log_type         = \"ADMIN_READ\"\n",
            "        }\n",
            "      \u001b[32m+\u001b[0m\u001b[0m audit_log_config {\n",
            "          \u001b[32m+\u001b[0m\u001b[0m exempted_members = []\n",
            "          \u001b[32m+\u001b[0m\u001b[0m log_type         = \"DATA_READ\"\n",
            "        }\n",
            "      \u001b[32m+\u001b[0m\u001b[0m audit_log_config {\n",
            "          \u001b[32m+\u001b[0m\u001b[0m exempted_members = []\n",
            "          \u001b[32m+\u001b[0m\u001b[0m log_type         = \"DATA_WRITE\"\n",
            "        }\n",
            "    }\n",
            "\n",
            "\u001b[1m  # google_project_iam_member.editor-member\u001b[0m will be created\n",
            "\u001b[0m  \u001b[32m+\u001b[0m\u001b[0m resource \"google_project_iam_member\" \"editor-member\" {\n",
            "      \u001b[32m+\u001b[0m\u001b[0m etag    = (known after apply)\n",
            "      \u001b[32m+\u001b[0m\u001b[0m id      = (known after apply)\n",
            "      \u001b[32m+\u001b[0m\u001b[0m member  = (known after apply)\n",
            "      \u001b[32m+\u001b[0m\u001b[0m project = \"ds-2024l-7001\"\n",
            "      \u001b[32m+\u001b[0m\u001b[0m role    = \"roles/owner\"\n",
            "    }\n",
            "\n",
            "\u001b[1m  # google_project_iam_member.editor-supervisors[\"user:marek.wiewiorka@gmail.com\"]\u001b[0m will be created\n",
            "\u001b[0m  \u001b[32m+\u001b[0m\u001b[0m resource \"google_project_iam_member\" \"editor-supervisors\" {\n",
            "      \u001b[32m+\u001b[0m\u001b[0m etag    = (known after apply)\n",
            "      \u001b[32m+\u001b[0m\u001b[0m id      = (known after apply)\n",
            "      \u001b[32m+\u001b[0m\u001b[0m member  = \"user:marek.wiewiorka@gmail.com\"\n",
            "      \u001b[32m+\u001b[0m\u001b[0m project = \"ds-2024l-7001\"\n",
            "      \u001b[32m+\u001b[0m\u001b[0m role    = \"roles/editor\"\n",
            "    }\n",
            "\n",
            "\u001b[1m  # google_project_iam_member.editor-supervisors[\"user:sitekwb@gmail.com\"]\u001b[0m will be created\n",
            "\u001b[0m  \u001b[32m+\u001b[0m\u001b[0m resource \"google_project_iam_member\" \"editor-supervisors\" {\n",
            "      \u001b[32m+\u001b[0m\u001b[0m etag    = (known after apply)\n",
            "      \u001b[32m+\u001b[0m\u001b[0m id      = (known after apply)\n",
            "      \u001b[32m+\u001b[0m\u001b[0m member  = \"user:sitekwb@gmail.com\"\n",
            "      \u001b[32m+\u001b[0m\u001b[0m project = \"ds-2024l-7001\"\n",
            "      \u001b[32m+\u001b[0m\u001b[0m role    = \"roles/editor\"\n",
            "    }\n",
            "\n",
            "\u001b[1m  # google_project_iam_member.editor-supervisors[\"user:tgambin@gmail.com\"]\u001b[0m will be created\n",
            "\u001b[0m  \u001b[32m+\u001b[0m\u001b[0m resource \"google_project_iam_member\" \"editor-supervisors\" {\n",
            "      \u001b[32m+\u001b[0m\u001b[0m etag    = (known after apply)\n",
            "      \u001b[32m+\u001b[0m\u001b[0m id      = (known after apply)\n",
            "      \u001b[32m+\u001b[0m\u001b[0m member  = \"user:tgambin@gmail.com\"\n",
            "      \u001b[32m+\u001b[0m\u001b[0m project = \"ds-2024l-7001\"\n",
            "      \u001b[32m+\u001b[0m\u001b[0m role    = \"roles/editor\"\n",
            "    }\n",
            "\n",
            "\u001b[1m  # google_project_service.service[\"cloudresourcemanager.googleapis.com\"]\u001b[0m will be created\n",
            "\u001b[0m  \u001b[32m+\u001b[0m\u001b[0m resource \"google_project_service\" \"service\" {\n",
            "      \u001b[32m+\u001b[0m\u001b[0m disable_dependent_services = true\n",
            "      \u001b[32m+\u001b[0m\u001b[0m disable_on_destroy         = true\n",
            "      \u001b[32m+\u001b[0m\u001b[0m id                         = (known after apply)\n",
            "      \u001b[32m+\u001b[0m\u001b[0m project                    = \"ds-2024l-7001\"\n",
            "      \u001b[32m+\u001b[0m\u001b[0m service                    = \"cloudresourcemanager.googleapis.com\"\n",
            "    }\n",
            "\n",
            "\u001b[1m  # google_project_service.service[\"iam.googleapis.com\"]\u001b[0m will be created\n",
            "\u001b[0m  \u001b[32m+\u001b[0m\u001b[0m resource \"google_project_service\" \"service\" {\n",
            "      \u001b[32m+\u001b[0m\u001b[0m disable_dependent_services = true\n",
            "      \u001b[32m+\u001b[0m\u001b[0m disable_on_destroy         = true\n",
            "      \u001b[32m+\u001b[0m\u001b[0m id                         = (known after apply)\n",
            "      \u001b[32m+\u001b[0m\u001b[0m project                    = \"ds-2024l-7001\"\n",
            "      \u001b[32m+\u001b[0m\u001b[0m service                    = \"iam.googleapis.com\"\n",
            "    }\n",
            "\n",
            "\u001b[1m  # google_project_service.service[\"iamcredentials.googleapis.com\"]\u001b[0m will be created\n",
            "\u001b[0m  \u001b[32m+\u001b[0m\u001b[0m resource \"google_project_service\" \"service\" {\n",
            "      \u001b[32m+\u001b[0m\u001b[0m disable_dependent_services = true\n",
            "      \u001b[32m+\u001b[0m\u001b[0m disable_on_destroy         = true\n",
            "      \u001b[32m+\u001b[0m\u001b[0m id                         = (known after apply)\n",
            "      \u001b[32m+\u001b[0m\u001b[0m project                    = \"ds-2024l-7001\"\n",
            "      \u001b[32m+\u001b[0m\u001b[0m service                    = \"iamcredentials.googleapis.com\"\n",
            "    }\n",
            "\n",
            "\u001b[1m  # google_project_service.service[\"serviceusage.googleapis.com\"]\u001b[0m will be created\n",
            "\u001b[0m  \u001b[32m+\u001b[0m\u001b[0m resource \"google_project_service\" \"service\" {\n",
            "      \u001b[32m+\u001b[0m\u001b[0m disable_dependent_services = true\n",
            "      \u001b[32m+\u001b[0m\u001b[0m disable_on_destroy         = true\n",
            "      \u001b[32m+\u001b[0m\u001b[0m id                         = (known after apply)\n",
            "      \u001b[32m+\u001b[0m\u001b[0m project                    = \"ds-2024l-7001\"\n",
            "      \u001b[32m+\u001b[0m\u001b[0m service                    = \"serviceusage.googleapis.com\"\n",
            "    }\n",
            "\n",
            "\u001b[1m  # google_project_service.service[\"sts.googleapis.com\"]\u001b[0m will be created\n",
            "\u001b[0m  \u001b[32m+\u001b[0m\u001b[0m resource \"google_project_service\" \"service\" {\n",
            "      \u001b[32m+\u001b[0m\u001b[0m disable_dependent_services = true\n",
            "      \u001b[32m+\u001b[0m\u001b[0m disable_on_destroy         = true\n",
            "      \u001b[32m+\u001b[0m\u001b[0m id                         = (known after apply)\n",
            "      \u001b[32m+\u001b[0m\u001b[0m project                    = \"ds-2024l-7001\"\n",
            "      \u001b[32m+\u001b[0m\u001b[0m service                    = \"sts.googleapis.com\"\n",
            "    }\n",
            "\n",
            "\u001b[1m  # google_service_account.terraform\u001b[0m will be created\n",
            "\u001b[0m  \u001b[32m+\u001b[0m\u001b[0m resource \"google_service_account\" \"terraform\" {\n",
            "      \u001b[32m+\u001b[0m\u001b[0m account_id = \"ds-2024l-7001-lab\"\n",
            "      \u001b[32m+\u001b[0m\u001b[0m disabled   = false\n",
            "      \u001b[32m+\u001b[0m\u001b[0m email      = (known after apply)\n",
            "      \u001b[32m+\u001b[0m\u001b[0m id         = (known after apply)\n",
            "      \u001b[32m+\u001b[0m\u001b[0m member     = (known after apply)\n",
            "      \u001b[32m+\u001b[0m\u001b[0m name       = (known after apply)\n",
            "      \u001b[32m+\u001b[0m\u001b[0m project    = \"ds-2024l-7001\"\n",
            "      \u001b[32m+\u001b[0m\u001b[0m unique_id  = (known after apply)\n",
            "    }\n",
            "\n",
            "\u001b[1m  # google_storage_bucket.notebook-bucket\u001b[0m will be created\n",
            "\u001b[0m  \u001b[32m+\u001b[0m\u001b[0m resource \"google_storage_bucket\" \"notebook-bucket\" {\n",
            "      \u001b[32m+\u001b[0m\u001b[0m effective_labels            = {\n",
            "          \u001b[32m+\u001b[0m\u001b[0m \"goog-terraform-provisioned\" = \"true\"\n",
            "        }\n",
            "      \u001b[32m+\u001b[0m\u001b[0m force_destroy               = true\n",
            "      \u001b[32m+\u001b[0m\u001b[0m id                          = (known after apply)\n",
            "      \u001b[32m+\u001b[0m\u001b[0m location                    = \"EUROPE-WEST1\"\n",
            "      \u001b[32m+\u001b[0m\u001b[0m name                        = \"ds-2024l-7001-notebook-data\"\n",
            "      \u001b[32m+\u001b[0m\u001b[0m project                     = \"ds-2024l-7001\"\n",
            "      \u001b[32m+\u001b[0m\u001b[0m project_number              = (known after apply)\n",
            "      \u001b[32m+\u001b[0m\u001b[0m public_access_prevention    = \"enforced\"\n",
            "      \u001b[32m+\u001b[0m\u001b[0m rpo                         = (known after apply)\n",
            "      \u001b[32m+\u001b[0m\u001b[0m self_link                   = (known after apply)\n",
            "      \u001b[32m+\u001b[0m\u001b[0m storage_class               = \"STANDARD\"\n",
            "      \u001b[32m+\u001b[0m\u001b[0m terraform_labels            = {\n",
            "          \u001b[32m+\u001b[0m\u001b[0m \"goog-terraform-provisioned\" = \"true\"\n",
            "        }\n",
            "      \u001b[32m+\u001b[0m\u001b[0m uniform_bucket_level_access = true\n",
            "      \u001b[32m+\u001b[0m\u001b[0m url                         = (known after apply)\n",
            "\n",
            "      \u001b[32m+\u001b[0m\u001b[0m soft_delete_policy (known after apply)\n",
            "\n",
            "      \u001b[32m+\u001b[0m\u001b[0m versioning (known after apply)\n",
            "\n",
            "      \u001b[32m+\u001b[0m\u001b[0m website (known after apply)\n",
            "    }\n",
            "\n",
            "\u001b[1m  # google_storage_bucket.state-bucket\u001b[0m will be created\n",
            "\u001b[0m  \u001b[32m+\u001b[0m\u001b[0m resource \"google_storage_bucket\" \"state-bucket\" {\n",
            "      \u001b[32m+\u001b[0m\u001b[0m effective_labels            = {\n",
            "          \u001b[32m+\u001b[0m\u001b[0m \"goog-terraform-provisioned\" = \"true\"\n",
            "        }\n",
            "      \u001b[32m+\u001b[0m\u001b[0m force_destroy               = true\n",
            "      \u001b[32m+\u001b[0m\u001b[0m id                          = (known after apply)\n",
            "      \u001b[32m+\u001b[0m\u001b[0m location                    = \"EUROPE-WEST1\"\n",
            "      \u001b[32m+\u001b[0m\u001b[0m name                        = \"ds-2024l-7001-state\"\n",
            "      \u001b[32m+\u001b[0m\u001b[0m project                     = \"ds-2024l-7001\"\n",
            "      \u001b[32m+\u001b[0m\u001b[0m project_number              = (known after apply)\n",
            "      \u001b[32m+\u001b[0m\u001b[0m public_access_prevention    = \"enforced\"\n",
            "      \u001b[32m+\u001b[0m\u001b[0m rpo                         = (known after apply)\n",
            "      \u001b[32m+\u001b[0m\u001b[0m self_link                   = (known after apply)\n",
            "      \u001b[32m+\u001b[0m\u001b[0m storage_class               = \"STANDARD\"\n",
            "      \u001b[32m+\u001b[0m\u001b[0m terraform_labels            = {\n",
            "          \u001b[32m+\u001b[0m\u001b[0m \"goog-terraform-provisioned\" = \"true\"\n",
            "        }\n",
            "      \u001b[32m+\u001b[0m\u001b[0m uniform_bucket_level_access = false\n",
            "      \u001b[32m+\u001b[0m\u001b[0m url                         = (known after apply)\n",
            "\n",
            "      \u001b[32m+\u001b[0m\u001b[0m soft_delete_policy (known after apply)\n",
            "\n",
            "      \u001b[32m+\u001b[0m\u001b[0m versioning (known after apply)\n",
            "\n",
            "      \u001b[32m+\u001b[0m\u001b[0m website (known after apply)\n",
            "    }\n",
            "\n",
            "\u001b[1mPlan:\u001b[0m 14 to add, 0 to change, 0 to destroy.\n",
            "\u001b[0m\n",
            "Changes to Outputs:\n",
            "  \u001b[32m+\u001b[0m\u001b[0m project_name              = \"ds-2024l-7001\"\n",
            "  \u001b[32m+\u001b[0m\u001b[0m terraform_service_account = (known after apply)\n",
            "  \u001b[32m+\u001b[0m\u001b[0m terraform_state_bucket    = (known after apply)\n",
            "\u001b[0m\u001b[1mgoogle_project.tbd_project: Creating...\u001b[0m\u001b[0m\n",
            "\u001b[0m\u001b[1mgoogle_project.tbd_project: Still creating... [10s elapsed]\u001b[0m\u001b[0m\n",
            "\u001b[0m\u001b[1mgoogle_project.tbd_project: Still creating... [20s elapsed]\u001b[0m\u001b[0m\n",
            "\u001b[0m\u001b[1mgoogle_project.tbd_project: Still creating... [30s elapsed]\u001b[0m\u001b[0m\n",
            "\u001b[0m\u001b[1mgoogle_project.tbd_project: Still creating... [40s elapsed]\u001b[0m\u001b[0m\n",
            "\u001b[0m\u001b[1mgoogle_project.tbd_project: Still creating... [50s elapsed]\u001b[0m\u001b[0m\n",
            "\u001b[0m\u001b[1mgoogle_project.tbd_project: Still creating... [1m0s elapsed]\u001b[0m\u001b[0m\n",
            "\u001b[0m\u001b[1mgoogle_project.tbd_project: Still creating... [1m10s elapsed]\u001b[0m\u001b[0m\n",
            "\u001b[0m\u001b[1mgoogle_project.tbd_project: Still creating... [1m20s elapsed]\u001b[0m\u001b[0m\n",
            "\u001b[0m\u001b[1mgoogle_project.tbd_project: Still creating... [1m30s elapsed]\u001b[0m\u001b[0m\n",
            "\u001b[0m\u001b[1mgoogle_project.tbd_project: Still creating... [1m40s elapsed]\u001b[0m\u001b[0m\n",
            "\u001b[0m\u001b[1mgoogle_project.tbd_project: Still creating... [1m50s elapsed]\u001b[0m\u001b[0m\n",
            "\u001b[0m\u001b[1mgoogle_project.tbd_project: Still creating... [2m0s elapsed]\u001b[0m\u001b[0m\n",
            "\u001b[0m\u001b[1mgoogle_project.tbd_project: Still creating... [2m10s elapsed]\u001b[0m\u001b[0m\n",
            "\u001b[0m\u001b[1mgoogle_project.tbd_project: Still creating... [2m20s elapsed]\u001b[0m\u001b[0m\n",
            "\u001b[0m\u001b[1mgoogle_project.tbd_project: Still creating... [2m30s elapsed]\u001b[0m\u001b[0m\n",
            "\u001b[0m\u001b[1mgoogle_project.tbd_project: Still creating... [2m40s elapsed]\u001b[0m\u001b[0m\n",
            "\u001b[0m\u001b[1mgoogle_project.tbd_project: Still creating... [2m50s elapsed]\u001b[0m\u001b[0m\n",
            "\u001b[0m\u001b[1mgoogle_project.tbd_project: Still creating... [3m0s elapsed]\u001b[0m\u001b[0m\n",
            "\u001b[0m\u001b[1mgoogle_project.tbd_project: Still creating... [3m10s elapsed]\u001b[0m\u001b[0m\n",
            "\u001b[0m\u001b[1mgoogle_project.tbd_project: Creation complete after 3m12s [id=projects/ds-2024l-7001]\u001b[0m\n",
            "\u001b[0m\u001b[1mgoogle_project_iam_audit_config.tbd_project_audit: Creating...\u001b[0m\u001b[0m\n",
            "\u001b[0m\u001b[1mgoogle_project_service.service[\"iam.googleapis.com\"]: Creating...\u001b[0m\u001b[0m\n",
            "\u001b[0m\u001b[1mgoogle_project_service.service[\"sts.googleapis.com\"]: Creating...\u001b[0m\u001b[0m\n",
            "\u001b[0m\u001b[1mgoogle_storage_bucket.notebook-bucket: Creating...\u001b[0m\u001b[0m\n",
            "\u001b[0m\u001b[1mgoogle_storage_bucket.state-bucket: Creating...\u001b[0m\u001b[0m\n",
            "\u001b[0m\u001b[1mgoogle_project_service.service[\"iamcredentials.googleapis.com\"]: Creating...\u001b[0m\u001b[0m\n",
            "\u001b[0m\u001b[1mgoogle_project_service.service[\"cloudresourcemanager.googleapis.com\"]: Creating...\u001b[0m\u001b[0m\n",
            "\u001b[0m\u001b[1mgoogle_project_iam_member.editor-supervisors[\"user:sitekwb@gmail.com\"]: Creating...\u001b[0m\u001b[0m\n",
            "\u001b[0m\u001b[1mgoogle_project_iam_member.editor-supervisors[\"user:tgambin@gmail.com\"]: Creating...\u001b[0m\u001b[0m\n",
            "\u001b[0m\u001b[1mgoogle_project_service.service[\"serviceusage.googleapis.com\"]: Creating...\u001b[0m\u001b[0m\n",
            "\u001b[0m\u001b[1mgoogle_storage_bucket.state-bucket: Creation complete after 2s [id=ds-2024l-7001-state]\u001b[0m\n",
            "\u001b[0m\u001b[1mgoogle_project_iam_member.editor-supervisors[\"user:marek.wiewiorka@gmail.com\"]: Creating...\u001b[0m\u001b[0m\n",
            "\u001b[0m\u001b[1mgoogle_storage_bucket.notebook-bucket: Creation complete after 2s [id=ds-2024l-7001-notebook-data]\u001b[0m\n",
            "\u001b[0m\u001b[1mgoogle_service_account.terraform: Creating...\u001b[0m\u001b[0m\n",
            "\u001b[0m\u001b[1mgoogle_project_iam_member.editor-supervisors[\"user:marek.wiewiorka@gmail.com\"]: Creation complete after 5s [id=ds-2024l-7001/roles/editor/user:marek.wiewiorka@gmail.com]\u001b[0m\n",
            "\u001b[0m\u001b[1mgoogle_project_iam_member.editor-supervisors[\"user:sitekwb@gmail.com\"]: Creation complete after 7s [id=ds-2024l-7001/roles/editor/user:sitekwb@gmail.com]\u001b[0m\n",
            "\u001b[0m\u001b[1mgoogle_project_iam_member.editor-supervisors[\"user:tgambin@gmail.com\"]: Creation complete after 7s [id=ds-2024l-7001/roles/editor/user:tgambin@gmail.com]\u001b[0m\n",
            "\u001b[0m\u001b[1mgoogle_project_iam_audit_config.tbd_project_audit: Creation complete after 9s [id=projects/ds-2024l-7001/audit_config/allServices]\u001b[0m\n",
            "\u001b[0m\u001b[1mgoogle_project_service.service[\"iam.googleapis.com\"]: Still creating... [10s elapsed]\u001b[0m\u001b[0m\n",
            "\u001b[0m\u001b[1mgoogle_project_service.service[\"sts.googleapis.com\"]: Still creating... [10s elapsed]\u001b[0m\u001b[0m\n",
            "\u001b[0m\u001b[1mgoogle_project_service.service[\"iamcredentials.googleapis.com\"]: Still creating... [10s elapsed]\u001b[0m\u001b[0m\n",
            "\u001b[0m\u001b[1mgoogle_project_service.service[\"cloudresourcemanager.googleapis.com\"]: Still creating... [10s elapsed]\u001b[0m\u001b[0m\n",
            "\u001b[0m\u001b[1mgoogle_project_service.service[\"serviceusage.googleapis.com\"]: Still creating... [10s elapsed]\u001b[0m\u001b[0m\n",
            "\u001b[0m\u001b[1mgoogle_service_account.terraform: Still creating... [10s elapsed]\u001b[0m\u001b[0m\n",
            "\u001b[0m\u001b[1mgoogle_service_account.terraform: Creation complete after 14s [id=projects/ds-2024l-7001/serviceAccounts/ds-2024l-7001-lab@ds-2024l-7001.iam.gserviceaccount.com]\u001b[0m\n",
            "\u001b[0m\u001b[1mgoogle_project_iam_member.editor-member: Creating...\u001b[0m\u001b[0m\n",
            "\u001b[0m\u001b[1mgoogle_project_service.service[\"iam.googleapis.com\"]: Still creating... [20s elapsed]\u001b[0m\u001b[0m\n",
            "\u001b[0m\u001b[1mgoogle_project_service.service[\"sts.googleapis.com\"]: Still creating... [20s elapsed]\u001b[0m\u001b[0m\n",
            "\u001b[0m\u001b[1mgoogle_project_service.service[\"iamcredentials.googleapis.com\"]: Still creating... [20s elapsed]\u001b[0m\u001b[0m\n",
            "\u001b[0m\u001b[1mgoogle_project_service.service[\"serviceusage.googleapis.com\"]: Still creating... [20s elapsed]\u001b[0m\u001b[0m\n",
            "\u001b[0m\u001b[1mgoogle_project_service.service[\"cloudresourcemanager.googleapis.com\"]: Still creating... [20s elapsed]\u001b[0m\u001b[0m\n",
            "\u001b[0m\u001b[1mgoogle_project_service.service[\"sts.googleapis.com\"]: Creation complete after 20s [id=ds-2024l-7001/sts.googleapis.com]\u001b[0m\n",
            "\u001b[0m\u001b[1mgoogle_project_service.service[\"serviceusage.googleapis.com\"]: Creation complete after 20s [id=ds-2024l-7001/serviceusage.googleapis.com]\u001b[0m\n",
            "\u001b[0m\u001b[1mgoogle_project_service.service[\"iamcredentials.googleapis.com\"]: Creation complete after 20s [id=ds-2024l-7001/iamcredentials.googleapis.com]\u001b[0m\n",
            "\u001b[0m\u001b[1mgoogle_project_service.service[\"cloudresourcemanager.googleapis.com\"]: Creation complete after 20s [id=ds-2024l-7001/cloudresourcemanager.googleapis.com]\u001b[0m\n",
            "\u001b[0m\u001b[1mgoogle_project_service.service[\"iam.googleapis.com\"]: Creation complete after 20s [id=ds-2024l-7001/iam.googleapis.com]\u001b[0m\n",
            "\u001b[0m\u001b[1mgoogle_project_iam_member.editor-member: Creation complete after 7s [id=ds-2024l-7001/roles/owner/serviceAccount:ds-2024l-7001-lab@ds-2024l-7001.iam.gserviceaccount.com]\u001b[0m\n",
            "\u001b[0m\u001b[1m\u001b[32m\n",
            "Apply complete! Resources: 14 added, 0 changed, 0 destroyed.\n",
            "\u001b[0m\u001b[0m\u001b[1m\u001b[32m\n",
            "Outputs:\n",
            "\n",
            "\u001b[0mproject_name = \"ds-2024l-7001\"\n",
            "terraform_service_account = \"ds-2024l-7001-lab@ds-2024l-7001.iam.gserviceaccount.com\"\n",
            "terraform_state_bucket = \"ds-2024l-7001-state\"\n"
          ]
        },
        {
          "output_type": "execute_result",
          "data": {
            "text/plain": []
          },
          "metadata": {},
          "execution_count": 8
        }
      ],
      "source": [
        "%%shell\n",
        "# bootstrap a project:\n",
        "cd $REPO_NAME/infra/bootstrap\n",
        "terraform apply -auto-approve"
      ]
    },
    {
      "cell_type": "markdown",
      "metadata": {
        "id": "9Kq6H57uY2Ss"
      },
      "source": [
        "### Finish\n",
        "Copy the **output variables** from the above out as you will need them in the next notebook."
      ]
    },
    {
      "cell_type": "markdown",
      "metadata": {
        "id": "RTyh2qtxY2St"
      },
      "source": []
    }
  ],
  "metadata": {
    "colab": {
      "provenance": []
    },
    "kernelspec": {
      "display_name": "Python 3 (ipykernel)",
      "language": "python",
      "name": "python3"
    },
    "language_info": {
      "codemirror_mode": {
        "name": "ipython",
        "version": 3
      },
      "file_extension": ".py",
      "mimetype": "text/x-python",
      "name": "python",
      "nbconvert_exporter": "python",
      "pygments_lexer": "ipython3"
    }
  },
  "nbformat": 4,
  "nbformat_minor": 0
}